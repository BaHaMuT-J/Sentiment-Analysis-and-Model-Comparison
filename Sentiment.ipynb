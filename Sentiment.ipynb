{
 "cells": [
  {
   "cell_type": "code",
   "execution_count": null,
   "id": "cd3411c5",
   "metadata": {},
   "outputs": [],
   "source": [
    "import os\n",
    "import re\n",
    "from collections import Counter\n",
    "\n",
    "import numpy as np\n",
    "import pandas as pd\n",
    "import matplotlib.pyplot as plt\n",
    "from sklearn.metrics import accuracy_score, precision_score, recall_score, f1_score\n",
    "\n",
    "from nltk.tokenize import word_tokenize\n",
    "from nltk.corpus import stopwords\n",
    "\n",
    "import torch\n",
    "from torch import nn\n",
    "import torch.optim as optim\n",
    "from torch.utils.data import  Dataset, DataLoader\n",
    "from torchmetrics import ConfusionMatrix\n",
    "from mlxtend.plotting import plot_confusion_matrix"
   ]
  },
  {
   "cell_type": "markdown",
   "id": "81822b40",
   "metadata": {},
   "source": [
    "## Reading data"
   ]
  },
  {
   "cell_type": "code",
   "execution_count": 18,
   "id": "a7a50ece",
   "metadata": {},
   "outputs": [
    {
     "data": {
      "text/html": [
       "<div>\n",
       "<style scoped>\n",
       "    .dataframe tbody tr th:only-of-type {\n",
       "        vertical-align: middle;\n",
       "    }\n",
       "\n",
       "    .dataframe tbody tr th {\n",
       "        vertical-align: top;\n",
       "    }\n",
       "\n",
       "    .dataframe thead th {\n",
       "        text-align: right;\n",
       "    }\n",
       "</style>\n",
       "<table border=\"1\" class=\"dataframe\">\n",
       "  <thead>\n",
       "    <tr style=\"text-align: right;\">\n",
       "      <th></th>\n",
       "      <th>review</th>\n",
       "      <th>sentiment</th>\n",
       "      <th>split</th>\n",
       "    </tr>\n",
       "  </thead>\n",
       "  <tbody>\n",
       "    <tr>\n",
       "      <th>0</th>\n",
       "      <td>Bromwell High is a cartoon comedy. It ran at t...</td>\n",
       "      <td>1</td>\n",
       "      <td>train</td>\n",
       "    </tr>\n",
       "    <tr>\n",
       "      <th>1</th>\n",
       "      <td>Homelessness (or Houselessness as George Carli...</td>\n",
       "      <td>1</td>\n",
       "      <td>train</td>\n",
       "    </tr>\n",
       "    <tr>\n",
       "      <th>2</th>\n",
       "      <td>Brilliant over-acting by Lesley Ann Warren. Be...</td>\n",
       "      <td>1</td>\n",
       "      <td>train</td>\n",
       "    </tr>\n",
       "    <tr>\n",
       "      <th>3</th>\n",
       "      <td>This is easily the most underrated film inn th...</td>\n",
       "      <td>1</td>\n",
       "      <td>train</td>\n",
       "    </tr>\n",
       "    <tr>\n",
       "      <th>4</th>\n",
       "      <td>This is not the typical Mel Brooks film. It wa...</td>\n",
       "      <td>1</td>\n",
       "      <td>train</td>\n",
       "    </tr>\n",
       "    <tr>\n",
       "      <th>...</th>\n",
       "      <td>...</td>\n",
       "      <td>...</td>\n",
       "      <td>...</td>\n",
       "    </tr>\n",
       "    <tr>\n",
       "      <th>49995</th>\n",
       "      <td>I occasionally let my kids watch this garbage ...</td>\n",
       "      <td>0</td>\n",
       "      <td>test</td>\n",
       "    </tr>\n",
       "    <tr>\n",
       "      <th>49996</th>\n",
       "      <td>When all we have anymore is pretty much realit...</td>\n",
       "      <td>0</td>\n",
       "      <td>test</td>\n",
       "    </tr>\n",
       "    <tr>\n",
       "      <th>49997</th>\n",
       "      <td>The basic genre is a thriller intercut with an...</td>\n",
       "      <td>0</td>\n",
       "      <td>test</td>\n",
       "    </tr>\n",
       "    <tr>\n",
       "      <th>49998</th>\n",
       "      <td>Four things intrigued me as to this film - fir...</td>\n",
       "      <td>0</td>\n",
       "      <td>test</td>\n",
       "    </tr>\n",
       "    <tr>\n",
       "      <th>49999</th>\n",
       "      <td>David Bryce's comments nearby are exceptionall...</td>\n",
       "      <td>0</td>\n",
       "      <td>test</td>\n",
       "    </tr>\n",
       "  </tbody>\n",
       "</table>\n",
       "<p>50000 rows × 3 columns</p>\n",
       "</div>"
      ],
      "text/plain": [
       "                                                  review  sentiment  split\n",
       "0      Bromwell High is a cartoon comedy. It ran at t...          1  train\n",
       "1      Homelessness (or Houselessness as George Carli...          1  train\n",
       "2      Brilliant over-acting by Lesley Ann Warren. Be...          1  train\n",
       "3      This is easily the most underrated film inn th...          1  train\n",
       "4      This is not the typical Mel Brooks film. It wa...          1  train\n",
       "...                                                  ...        ...    ...\n",
       "49995  I occasionally let my kids watch this garbage ...          0   test\n",
       "49996  When all we have anymore is pretty much realit...          0   test\n",
       "49997  The basic genre is a thriller intercut with an...          0   test\n",
       "49998  Four things intrigued me as to this film - fir...          0   test\n",
       "49999  David Bryce's comments nearby are exceptionall...          0   test\n",
       "\n",
       "[50000 rows x 3 columns]"
      ]
     },
     "execution_count": 18,
     "metadata": {},
     "output_type": "execute_result"
    }
   ],
   "source": [
    "def load_imdb_data(data_dir):\n",
    "    data = {'review': [], 'sentiment': [], 'split': []}\n",
    "    for split in ['train', 'test']:\n",
    "        for sentiment in ['pos', 'neg']:\n",
    "            path = os.path.join(data_dir, split, sentiment)\n",
    "            for fname in os.listdir(path):\n",
    "                if fname.endswith(\".txt\"):\n",
    "                    with open(os.path.join(path, fname), encoding='utf-8') as f:\n",
    "                        data['review'].append(f.read())\n",
    "                        data['sentiment'].append(1 if sentiment == 'pos' else 0)\n",
    "                        data['split'].append(split)\n",
    "    return pd.DataFrame(data)\n",
    "\n",
    "# Read all data into dataframe\n",
    "imdb_df = load_imdb_data('aclImdb')\n",
    "\n",
    "# Save to csv for future usage\n",
    "# imdb_df.to_csv(\"imdb_raws.csv\", index=False)\n",
    "\n",
    "imdb_df"
   ]
  },
  {
   "cell_type": "code",
   "execution_count": 40,
   "id": "7ab8e606",
   "metadata": {},
   "outputs": [
    {
     "data": {
      "text/plain": [
       "split\n",
       "train    25000\n",
       "test     25000\n",
       "Name: count, dtype: int64"
      ]
     },
     "execution_count": 40,
     "metadata": {},
     "output_type": "execute_result"
    }
   ],
   "source": [
    "imdb_df['split'].value_counts()"
   ]
  },
  {
   "cell_type": "code",
   "execution_count": 2,
   "id": "e15e2223",
   "metadata": {},
   "outputs": [
    {
     "data": {
      "text/html": [
       "<div>\n",
       "<style scoped>\n",
       "    .dataframe tbody tr th:only-of-type {\n",
       "        vertical-align: middle;\n",
       "    }\n",
       "\n",
       "    .dataframe tbody tr th {\n",
       "        vertical-align: top;\n",
       "    }\n",
       "\n",
       "    .dataframe thead th {\n",
       "        text-align: right;\n",
       "    }\n",
       "</style>\n",
       "<table border=\"1\" class=\"dataframe\">\n",
       "  <thead>\n",
       "    <tr style=\"text-align: right;\">\n",
       "      <th></th>\n",
       "      <th>review</th>\n",
       "      <th>sentiment</th>\n",
       "      <th>split</th>\n",
       "    </tr>\n",
       "  </thead>\n",
       "  <tbody>\n",
       "    <tr>\n",
       "      <th>0</th>\n",
       "      <td>Bromwell High is a cartoon comedy. It ran at t...</td>\n",
       "      <td>1</td>\n",
       "      <td>train</td>\n",
       "    </tr>\n",
       "    <tr>\n",
       "      <th>1</th>\n",
       "      <td>Homelessness (or Houselessness as George Carli...</td>\n",
       "      <td>1</td>\n",
       "      <td>train</td>\n",
       "    </tr>\n",
       "    <tr>\n",
       "      <th>2</th>\n",
       "      <td>Brilliant over-acting by Lesley Ann Warren. Be...</td>\n",
       "      <td>1</td>\n",
       "      <td>train</td>\n",
       "    </tr>\n",
       "    <tr>\n",
       "      <th>3</th>\n",
       "      <td>This is easily the most underrated film inn th...</td>\n",
       "      <td>1</td>\n",
       "      <td>train</td>\n",
       "    </tr>\n",
       "    <tr>\n",
       "      <th>4</th>\n",
       "      <td>This is not the typical Mel Brooks film. It wa...</td>\n",
       "      <td>1</td>\n",
       "      <td>train</td>\n",
       "    </tr>\n",
       "    <tr>\n",
       "      <th>...</th>\n",
       "      <td>...</td>\n",
       "      <td>...</td>\n",
       "      <td>...</td>\n",
       "    </tr>\n",
       "    <tr>\n",
       "      <th>49995</th>\n",
       "      <td>I occasionally let my kids watch this garbage ...</td>\n",
       "      <td>0</td>\n",
       "      <td>test</td>\n",
       "    </tr>\n",
       "    <tr>\n",
       "      <th>49996</th>\n",
       "      <td>When all we have anymore is pretty much realit...</td>\n",
       "      <td>0</td>\n",
       "      <td>test</td>\n",
       "    </tr>\n",
       "    <tr>\n",
       "      <th>49997</th>\n",
       "      <td>The basic genre is a thriller intercut with an...</td>\n",
       "      <td>0</td>\n",
       "      <td>test</td>\n",
       "    </tr>\n",
       "    <tr>\n",
       "      <th>49998</th>\n",
       "      <td>Four things intrigued me as to this film - fir...</td>\n",
       "      <td>0</td>\n",
       "      <td>test</td>\n",
       "    </tr>\n",
       "    <tr>\n",
       "      <th>49999</th>\n",
       "      <td>David Bryce's comments nearby are exceptionall...</td>\n",
       "      <td>0</td>\n",
       "      <td>test</td>\n",
       "    </tr>\n",
       "  </tbody>\n",
       "</table>\n",
       "<p>50000 rows × 3 columns</p>\n",
       "</div>"
      ],
      "text/plain": [
       "                                                  review  sentiment  split\n",
       "0      Bromwell High is a cartoon comedy. It ran at t...          1  train\n",
       "1      Homelessness (or Houselessness as George Carli...          1  train\n",
       "2      Brilliant over-acting by Lesley Ann Warren. Be...          1  train\n",
       "3      This is easily the most underrated film inn th...          1  train\n",
       "4      This is not the typical Mel Brooks film. It wa...          1  train\n",
       "...                                                  ...        ...    ...\n",
       "49995  I occasionally let my kids watch this garbage ...          0   test\n",
       "49996  When all we have anymore is pretty much realit...          0   test\n",
       "49997  The basic genre is a thriller intercut with an...          0   test\n",
       "49998  Four things intrigued me as to this film - fir...          0   test\n",
       "49999  David Bryce's comments nearby are exceptionall...          0   test\n",
       "\n",
       "[50000 rows x 3 columns]"
      ]
     },
     "execution_count": 2,
     "metadata": {},
     "output_type": "execute_result"
    }
   ],
   "source": [
    "imdb_df = pd.read_csv('imdb_raws.csv')\n",
    "imdb_df"
   ]
  },
  {
   "cell_type": "code",
   "execution_count": 69,
   "id": "8e24da5a",
   "metadata": {},
   "outputs": [
    {
     "name": "stdout",
     "output_type": "stream",
     "text": [
      "Sampled test length: 12500\n",
      "split  sentiment\n",
      "train  0            6250\n",
      "       1            6250\n",
      "dtype: int64\n",
      "\n",
      "Remaining test length: 12500\n",
      "split  sentiment\n",
      "test   0            6250\n",
      "       1            6250\n",
      "dtype: int64\n",
      "\n",
      "IMDB:\n",
      "split  sentiment\n",
      "test   0             6250\n",
      "       1             6250\n",
      "train  0            18750\n",
      "       1            18750\n",
      "dtype: int64\n"
     ]
    }
   ],
   "source": [
    "# Sample half of test data into train data\n",
    "test_pos = imdb_df[(imdb_df['split'] == 'test') & (imdb_df['sentiment'] == 1)]\n",
    "test_neg = imdb_df[(imdb_df['split'] == 'test') & (imdb_df['sentiment'] == 0)]\n",
    "\n",
    "sampled_pos = test_pos.sample(n=6250, random_state=42)\n",
    "sampled_neg = test_neg.sample(n=6250, random_state=42)\n",
    "\n",
    "sampled_test = pd.concat([sampled_pos, sampled_neg])\n",
    "sampled_test['split'] = 'train'\n",
    "print(f\"Sampled test length: {len(sampled_test)}\\n{sampled_test.groupby(['split', 'sentiment']).size()}\\n\")\n",
    "\n",
    "remaining_test = imdb_df[~imdb_df.index.isin(sampled_test.index)]#[imdb_df['split'] == 'test']\n",
    "remaining_test = remaining_test[remaining_test['split'] == 'test']\n",
    "print(f\"Remaining test length: {len(remaining_test)}\\n{remaining_test.groupby(['split', 'sentiment']).size()}\\n\")\n",
    "\n",
    "imdb_df = pd.concat([remaining_test, imdb_df[imdb_df['split'] == 'train'], sampled_test], ignore_index=True)\n",
    "# imdb_df.to_csv(\"imdb_more_train.csv\", index=False)\n",
    "\n",
    "print(\"IMDB:\")\n",
    "print(imdb_df.groupby(['split', 'sentiment']).size())"
   ]
  },
  {
   "cell_type": "code",
   "execution_count": 3,
   "id": "e64ae398",
   "metadata": {},
   "outputs": [
    {
     "data": {
      "text/html": [
       "<div>\n",
       "<style scoped>\n",
       "    .dataframe tbody tr th:only-of-type {\n",
       "        vertical-align: middle;\n",
       "    }\n",
       "\n",
       "    .dataframe tbody tr th {\n",
       "        vertical-align: top;\n",
       "    }\n",
       "\n",
       "    .dataframe thead th {\n",
       "        text-align: right;\n",
       "    }\n",
       "</style>\n",
       "<table border=\"1\" class=\"dataframe\">\n",
       "  <thead>\n",
       "    <tr style=\"text-align: right;\">\n",
       "      <th></th>\n",
       "      <th>review</th>\n",
       "      <th>sentiment</th>\n",
       "      <th>split</th>\n",
       "    </tr>\n",
       "  </thead>\n",
       "  <tbody>\n",
       "    <tr>\n",
       "      <th>0</th>\n",
       "      <td>Actor turned director Bill Paxton follows up h...</td>\n",
       "      <td>1</td>\n",
       "      <td>test</td>\n",
       "    </tr>\n",
       "    <tr>\n",
       "      <th>1</th>\n",
       "      <td>As a recreational golfer with some knowledge o...</td>\n",
       "      <td>1</td>\n",
       "      <td>test</td>\n",
       "    </tr>\n",
       "    <tr>\n",
       "      <th>2</th>\n",
       "      <td>Bill Paxton has taken the true story of the 19...</td>\n",
       "      <td>1</td>\n",
       "      <td>test</td>\n",
       "    </tr>\n",
       "    <tr>\n",
       "      <th>3</th>\n",
       "      <td>I saw this film on September 1st, 2005 in Indi...</td>\n",
       "      <td>1</td>\n",
       "      <td>test</td>\n",
       "    </tr>\n",
       "    <tr>\n",
       "      <th>4</th>\n",
       "      <td>Maybe I'm reading into this too much, but I wo...</td>\n",
       "      <td>1</td>\n",
       "      <td>test</td>\n",
       "    </tr>\n",
       "    <tr>\n",
       "      <th>...</th>\n",
       "      <td>...</td>\n",
       "      <td>...</td>\n",
       "      <td>...</td>\n",
       "    </tr>\n",
       "    <tr>\n",
       "      <th>49995</th>\n",
       "      <td>I had high hopes for this production, being on...</td>\n",
       "      <td>0</td>\n",
       "      <td>train</td>\n",
       "    </tr>\n",
       "    <tr>\n",
       "      <th>49996</th>\n",
       "      <td>Positively ridiculous film.&lt;br /&gt;&lt;br /&gt;If Dori...</td>\n",
       "      <td>0</td>\n",
       "      <td>train</td>\n",
       "    </tr>\n",
       "    <tr>\n",
       "      <th>49997</th>\n",
       "      <td>I had a bit of hope for this hour long film ma...</td>\n",
       "      <td>0</td>\n",
       "      <td>train</td>\n",
       "    </tr>\n",
       "    <tr>\n",
       "      <th>49998</th>\n",
       "      <td>The Lifetime channel aired this in October but...</td>\n",
       "      <td>0</td>\n",
       "      <td>train</td>\n",
       "    </tr>\n",
       "    <tr>\n",
       "      <th>49999</th>\n",
       "      <td>The book, while not particularly great, was de...</td>\n",
       "      <td>0</td>\n",
       "      <td>train</td>\n",
       "    </tr>\n",
       "  </tbody>\n",
       "</table>\n",
       "<p>50000 rows × 3 columns</p>\n",
       "</div>"
      ],
      "text/plain": [
       "                                                  review  sentiment  split\n",
       "0      Actor turned director Bill Paxton follows up h...          1   test\n",
       "1      As a recreational golfer with some knowledge o...          1   test\n",
       "2      Bill Paxton has taken the true story of the 19...          1   test\n",
       "3      I saw this film on September 1st, 2005 in Indi...          1   test\n",
       "4      Maybe I'm reading into this too much, but I wo...          1   test\n",
       "...                                                  ...        ...    ...\n",
       "49995  I had high hopes for this production, being on...          0  train\n",
       "49996  Positively ridiculous film.<br /><br />If Dori...          0  train\n",
       "49997  I had a bit of hope for this hour long film ma...          0  train\n",
       "49998  The Lifetime channel aired this in October but...          0  train\n",
       "49999  The book, while not particularly great, was de...          0  train\n",
       "\n",
       "[50000 rows x 3 columns]"
      ]
     },
     "execution_count": 3,
     "metadata": {},
     "output_type": "execute_result"
    }
   ],
   "source": [
    "imdb_df = pd.read_csv('imdb_more_train.csv')\n",
    "imdb_df"
   ]
  },
  {
   "cell_type": "code",
   "execution_count": 4,
   "id": "68959ad6",
   "metadata": {},
   "outputs": [
    {
     "data": {
      "text/plain": [
       "(37500, 12500)"
      ]
     },
     "execution_count": 4,
     "metadata": {},
     "output_type": "execute_result"
    }
   ],
   "source": [
    "imdb_df_train = imdb_df[imdb_df['split'] == 'train'].copy().reset_index(drop=True)\n",
    "imdb_df_test = imdb_df[imdb_df['split'] == 'test'].copy().reset_index(drop=True)\n",
    "len(imdb_df_train), len(imdb_df_test)"
   ]
  },
  {
   "cell_type": "markdown",
   "id": "732a488f",
   "metadata": {},
   "source": [
    "## Data Preprocessing"
   ]
  },
  {
   "cell_type": "code",
   "execution_count": 5,
   "id": "aadcab32",
   "metadata": {},
   "outputs": [],
   "source": [
    "stop_words = set(stopwords.words('english'))\n",
    "\n",
    "def clean_and_tokenize(text, remove_stopwords=False):\n",
    "  # Replace HTML tags\n",
    "  text = text.replace('<br />', ' ').replace('<br></br>', ' ')\n",
    "    \n",
    "  # Lowercase\n",
    "  text = text.lower()\n",
    "    \n",
    "  # Remove non-alphabetic characters\n",
    "  text = re.sub(r\"[^a-zA-Z]\", ' ', text)\n",
    "    \n",
    "  # Tokenize\n",
    "  tokens = word_tokenize(text)\n",
    "    \n",
    "  # Remove stopwords\n",
    "  if remove_stopwords:\n",
    "    tokens = [t for t in tokens if t not in stop_words]\n",
    "    \n",
    "  return tokens"
   ]
  },
  {
   "cell_type": "code",
   "execution_count": 6,
   "id": "4583f6e1",
   "metadata": {},
   "outputs": [
    {
     "data": {
      "text/html": [
       "<div>\n",
       "<style scoped>\n",
       "    .dataframe tbody tr th:only-of-type {\n",
       "        vertical-align: middle;\n",
       "    }\n",
       "\n",
       "    .dataframe tbody tr th {\n",
       "        vertical-align: top;\n",
       "    }\n",
       "\n",
       "    .dataframe thead th {\n",
       "        text-align: right;\n",
       "    }\n",
       "</style>\n",
       "<table border=\"1\" class=\"dataframe\">\n",
       "  <thead>\n",
       "    <tr style=\"text-align: right;\">\n",
       "      <th></th>\n",
       "      <th>review</th>\n",
       "      <th>sentiment</th>\n",
       "      <th>split</th>\n",
       "      <th>tokens</th>\n",
       "    </tr>\n",
       "  </thead>\n",
       "  <tbody>\n",
       "    <tr>\n",
       "      <th>0</th>\n",
       "      <td>Bromwell High is a cartoon comedy. It ran at t...</td>\n",
       "      <td>1</td>\n",
       "      <td>train</td>\n",
       "      <td>[bromwell, high, cartoon, comedy, ran, time, p...</td>\n",
       "    </tr>\n",
       "    <tr>\n",
       "      <th>1</th>\n",
       "      <td>Homelessness (or Houselessness as George Carli...</td>\n",
       "      <td>1</td>\n",
       "      <td>train</td>\n",
       "      <td>[homelessness, houselessness, george, carlin, ...</td>\n",
       "    </tr>\n",
       "    <tr>\n",
       "      <th>2</th>\n",
       "      <td>Brilliant over-acting by Lesley Ann Warren. Be...</td>\n",
       "      <td>1</td>\n",
       "      <td>train</td>\n",
       "      <td>[brilliant, acting, lesley, ann, warren, best,...</td>\n",
       "    </tr>\n",
       "    <tr>\n",
       "      <th>3</th>\n",
       "      <td>This is easily the most underrated film inn th...</td>\n",
       "      <td>1</td>\n",
       "      <td>train</td>\n",
       "      <td>[easily, underrated, film, inn, brooks, cannon...</td>\n",
       "    </tr>\n",
       "    <tr>\n",
       "      <th>4</th>\n",
       "      <td>This is not the typical Mel Brooks film. It wa...</td>\n",
       "      <td>1</td>\n",
       "      <td>train</td>\n",
       "      <td>[typical, mel, brooks, film, much, less, slaps...</td>\n",
       "    </tr>\n",
       "    <tr>\n",
       "      <th>...</th>\n",
       "      <td>...</td>\n",
       "      <td>...</td>\n",
       "      <td>...</td>\n",
       "      <td>...</td>\n",
       "    </tr>\n",
       "    <tr>\n",
       "      <th>37495</th>\n",
       "      <td>I had high hopes for this production, being on...</td>\n",
       "      <td>0</td>\n",
       "      <td>train</td>\n",
       "      <td>[high, hopes, production, one, favourite, work...</td>\n",
       "    </tr>\n",
       "    <tr>\n",
       "      <th>37496</th>\n",
       "      <td>Positively ridiculous film.&lt;br /&gt;&lt;br /&gt;If Dori...</td>\n",
       "      <td>0</td>\n",
       "      <td>train</td>\n",
       "      <td>[positively, ridiculous, film, doris, roberts,...</td>\n",
       "    </tr>\n",
       "    <tr>\n",
       "      <th>37497</th>\n",
       "      <td>I had a bit of hope for this hour long film ma...</td>\n",
       "      <td>0</td>\n",
       "      <td>train</td>\n",
       "      <td>[bit, hope, hour, long, film, made, footage, o...</td>\n",
       "    </tr>\n",
       "    <tr>\n",
       "      <th>37498</th>\n",
       "      <td>The Lifetime channel aired this in October but...</td>\n",
       "      <td>0</td>\n",
       "      <td>train</td>\n",
       "      <td>[lifetime, channel, aired, october, got, aroun...</td>\n",
       "    </tr>\n",
       "    <tr>\n",
       "      <th>37499</th>\n",
       "      <td>The book, while not particularly great, was de...</td>\n",
       "      <td>0</td>\n",
       "      <td>train</td>\n",
       "      <td>[book, particularly, great, decent, movie, com...</td>\n",
       "    </tr>\n",
       "  </tbody>\n",
       "</table>\n",
       "<p>37500 rows × 4 columns</p>\n",
       "</div>"
      ],
      "text/plain": [
       "                                                  review  sentiment  split  \\\n",
       "0      Bromwell High is a cartoon comedy. It ran at t...          1  train   \n",
       "1      Homelessness (or Houselessness as George Carli...          1  train   \n",
       "2      Brilliant over-acting by Lesley Ann Warren. Be...          1  train   \n",
       "3      This is easily the most underrated film inn th...          1  train   \n",
       "4      This is not the typical Mel Brooks film. It wa...          1  train   \n",
       "...                                                  ...        ...    ...   \n",
       "37495  I had high hopes for this production, being on...          0  train   \n",
       "37496  Positively ridiculous film.<br /><br />If Dori...          0  train   \n",
       "37497  I had a bit of hope for this hour long film ma...          0  train   \n",
       "37498  The Lifetime channel aired this in October but...          0  train   \n",
       "37499  The book, while not particularly great, was de...          0  train   \n",
       "\n",
       "                                                  tokens  \n",
       "0      [bromwell, high, cartoon, comedy, ran, time, p...  \n",
       "1      [homelessness, houselessness, george, carlin, ...  \n",
       "2      [brilliant, acting, lesley, ann, warren, best,...  \n",
       "3      [easily, underrated, film, inn, brooks, cannon...  \n",
       "4      [typical, mel, brooks, film, much, less, slaps...  \n",
       "...                                                  ...  \n",
       "37495  [high, hopes, production, one, favourite, work...  \n",
       "37496  [positively, ridiculous, film, doris, roberts,...  \n",
       "37497  [bit, hope, hour, long, film, made, footage, o...  \n",
       "37498  [lifetime, channel, aired, october, got, aroun...  \n",
       "37499  [book, particularly, great, decent, movie, com...  \n",
       "\n",
       "[37500 rows x 4 columns]"
      ]
     },
     "execution_count": 6,
     "metadata": {},
     "output_type": "execute_result"
    }
   ],
   "source": [
    "# Apply to DataFrame to add new column\n",
    "imdb_df_train['tokens'] = imdb_df_train['review'].apply(lambda x: clean_and_tokenize(x, remove_stopwords=True))\n",
    "imdb_df_train"
   ]
  },
  {
   "cell_type": "code",
   "execution_count": 87,
   "id": "521d3ff0",
   "metadata": {},
   "outputs": [
    {
     "data": {
      "image/png": "[encoded data removed]",
      "text/plain": [
       "<Figure size 640x480 with 1 Axes>"
      ]
     },
     "metadata": {},
     "output_type": "display_data"
    }
   ],
   "source": [
    "# Plot histogram to see review length distribution\n",
    "review_length_train = imdb_df_train['tokens'].apply(lambda x: len(x))\n",
    "\n",
    "bin_width = 50\n",
    "bins_train = np.arange(min(review_length_train), max(review_length_train) + bin_width, bin_width)\n",
    "\n",
    "plt.hist(review_length_train, bins=bins_train)\n",
    "plt.xlim(0, 600)\n",
    "plt.show()"
   ]
  },
  {
   "cell_type": "code",
   "execution_count": 88,
   "id": "10557701",
   "metadata": {},
   "outputs": [
    {
     "data": {
      "text/plain": [
       "count    37500.000000\n",
       "mean       118.663893\n",
       "std         89.956809\n",
       "min          4.000000\n",
       "25%         63.000000\n",
       "50%         88.000000\n",
       "75%        144.000000\n",
       "max       1422.000000\n",
       "Name: tokens, dtype: float64"
      ]
     },
     "execution_count": 88,
     "metadata": {},
     "output_type": "execute_result"
    }
   ],
   "source": [
    "review_length_train.describe()"
   ]
  },
  {
   "cell_type": "code",
   "execution_count": 7,
   "id": "bec101ae",
   "metadata": {},
   "outputs": [
    {
     "data": {
      "text/html": [
       "<div>\n",
       "<style scoped>\n",
       "    .dataframe tbody tr th:only-of-type {\n",
       "        vertical-align: middle;\n",
       "    }\n",
       "\n",
       "    .dataframe tbody tr th {\n",
       "        vertical-align: top;\n",
       "    }\n",
       "\n",
       "    .dataframe thead th {\n",
       "        text-align: right;\n",
       "    }\n",
       "</style>\n",
       "<table border=\"1\" class=\"dataframe\">\n",
       "  <thead>\n",
       "    <tr style=\"text-align: right;\">\n",
       "      <th></th>\n",
       "      <th>review</th>\n",
       "      <th>sentiment</th>\n",
       "      <th>split</th>\n",
       "      <th>tokens</th>\n",
       "    </tr>\n",
       "  </thead>\n",
       "  <tbody>\n",
       "    <tr>\n",
       "      <th>0</th>\n",
       "      <td>Actor turned director Bill Paxton follows up h...</td>\n",
       "      <td>1</td>\n",
       "      <td>test</td>\n",
       "      <td>[actor, turned, director, bill, paxton, follow...</td>\n",
       "    </tr>\n",
       "    <tr>\n",
       "      <th>1</th>\n",
       "      <td>As a recreational golfer with some knowledge o...</td>\n",
       "      <td>1</td>\n",
       "      <td>test</td>\n",
       "      <td>[recreational, golfer, knowledge, sport, histo...</td>\n",
       "    </tr>\n",
       "    <tr>\n",
       "      <th>2</th>\n",
       "      <td>Bill Paxton has taken the true story of the 19...</td>\n",
       "      <td>1</td>\n",
       "      <td>test</td>\n",
       "      <td>[bill, paxton, taken, true, story, us, golf, o...</td>\n",
       "    </tr>\n",
       "    <tr>\n",
       "      <th>3</th>\n",
       "      <td>I saw this film on September 1st, 2005 in Indi...</td>\n",
       "      <td>1</td>\n",
       "      <td>test</td>\n",
       "      <td>[saw, film, september, st, indianapolis, one, ...</td>\n",
       "    </tr>\n",
       "    <tr>\n",
       "      <th>4</th>\n",
       "      <td>Maybe I'm reading into this too much, but I wo...</td>\n",
       "      <td>1</td>\n",
       "      <td>test</td>\n",
       "      <td>[maybe, reading, much, wonder, much, hand, hon...</td>\n",
       "    </tr>\n",
       "    <tr>\n",
       "      <th>...</th>\n",
       "      <td>...</td>\n",
       "      <td>...</td>\n",
       "      <td>...</td>\n",
       "      <td>...</td>\n",
       "    </tr>\n",
       "    <tr>\n",
       "      <th>12495</th>\n",
       "      <td>many people said this was a great movie with H...</td>\n",
       "      <td>0</td>\n",
       "      <td>test</td>\n",
       "      <td>[many, people, said, great, movie, hoffman, de...</td>\n",
       "    </tr>\n",
       "    <tr>\n",
       "      <th>12496</th>\n",
       "      <td>Awful, awful, awful times a hundred still does...</td>\n",
       "      <td>0</td>\n",
       "      <td>test</td>\n",
       "      <td>[awful, awful, awful, times, hundred, still, b...</td>\n",
       "    </tr>\n",
       "    <tr>\n",
       "      <th>12497</th>\n",
       "      <td>I occasionally let my kids watch this garbage ...</td>\n",
       "      <td>0</td>\n",
       "      <td>test</td>\n",
       "      <td>[occasionally, let, kids, watch, garbage, unde...</td>\n",
       "    </tr>\n",
       "    <tr>\n",
       "      <th>12498</th>\n",
       "      <td>When all we have anymore is pretty much realit...</td>\n",
       "      <td>0</td>\n",
       "      <td>test</td>\n",
       "      <td>[anymore, pretty, much, reality, tv, shows, pe...</td>\n",
       "    </tr>\n",
       "    <tr>\n",
       "      <th>12499</th>\n",
       "      <td>The basic genre is a thriller intercut with an...</td>\n",
       "      <td>0</td>\n",
       "      <td>test</td>\n",
       "      <td>[basic, genre, thriller, intercut, uncomfortab...</td>\n",
       "    </tr>\n",
       "  </tbody>\n",
       "</table>\n",
       "<p>12500 rows × 4 columns</p>\n",
       "</div>"
      ],
      "text/plain": [
       "                                                  review  sentiment split  \\\n",
       "0      Actor turned director Bill Paxton follows up h...          1  test   \n",
       "1      As a recreational golfer with some knowledge o...          1  test   \n",
       "2      Bill Paxton has taken the true story of the 19...          1  test   \n",
       "3      I saw this film on September 1st, 2005 in Indi...          1  test   \n",
       "4      Maybe I'm reading into this too much, but I wo...          1  test   \n",
       "...                                                  ...        ...   ...   \n",
       "12495  many people said this was a great movie with H...          0  test   \n",
       "12496  Awful, awful, awful times a hundred still does...          0  test   \n",
       "12497  I occasionally let my kids watch this garbage ...          0  test   \n",
       "12498  When all we have anymore is pretty much realit...          0  test   \n",
       "12499  The basic genre is a thriller intercut with an...          0  test   \n",
       "\n",
       "                                                  tokens  \n",
       "0      [actor, turned, director, bill, paxton, follow...  \n",
       "1      [recreational, golfer, knowledge, sport, histo...  \n",
       "2      [bill, paxton, taken, true, story, us, golf, o...  \n",
       "3      [saw, film, september, st, indianapolis, one, ...  \n",
       "4      [maybe, reading, much, wonder, much, hand, hon...  \n",
       "...                                                  ...  \n",
       "12495  [many, people, said, great, movie, hoffman, de...  \n",
       "12496  [awful, awful, awful, times, hundred, still, b...  \n",
       "12497  [occasionally, let, kids, watch, garbage, unde...  \n",
       "12498  [anymore, pretty, much, reality, tv, shows, pe...  \n",
       "12499  [basic, genre, thriller, intercut, uncomfortab...  \n",
       "\n",
       "[12500 rows x 4 columns]"
      ]
     },
     "execution_count": 7,
     "metadata": {},
     "output_type": "execute_result"
    }
   ],
   "source": [
    "# Apply to DataFrame to add new column\n",
    "imdb_df_test['tokens'] = imdb_df_test['review'].apply(lambda x: clean_and_tokenize(x, remove_stopwords=True))\n",
    "imdb_df_test"
   ]
  },
  {
   "cell_type": "code",
   "execution_count": 90,
   "id": "03aa0a5a",
   "metadata": {},
   "outputs": [
    {
     "data": {
      "image/png": "[encoded data removed]",
      "text/plain": [
       "<Figure size 640x480 with 1 Axes>"
      ]
     },
     "metadata": {},
     "output_type": "display_data"
    }
   ],
   "source": [
    "# Plot histogram to see review length distribution\n",
    "review_length_test = imdb_df_test['tokens'].apply(lambda x: len(x))\n",
    "\n",
    "bin_width = 50\n",
    "bins_test = np.arange(min(review_length_test), max(review_length_test) + bin_width, bin_width)\n",
    "\n",
    "plt.hist(review_length_test, bins=bins_test)\n",
    "plt.xlim(0, 600)\n",
    "plt.show()"
   ]
  },
  {
   "cell_type": "code",
   "execution_count": 91,
   "id": "c4a1b733",
   "metadata": {},
   "outputs": [
    {
     "data": {
      "text/plain": [
       "count    12500.000000\n",
       "mean       116.538560\n",
       "std         87.658417\n",
       "min          3.000000\n",
       "25%         63.000000\n",
       "50%         87.000000\n",
       "75%        142.000000\n",
       "max       1089.000000\n",
       "Name: tokens, dtype: float64"
      ]
     },
     "execution_count": 91,
     "metadata": {},
     "output_type": "execute_result"
    }
   ],
   "source": [
    "review_length_test.describe()"
   ]
  },
  {
   "cell_type": "code",
   "execution_count": 92,
   "id": "9e4f18f1",
   "metadata": {},
   "outputs": [
    {
     "data": {
      "image/png": "[encoded data removed]",
      "text/plain": [
       "<Figure size 640x480 with 1 Axes>"
      ]
     },
     "metadata": {},
     "output_type": "display_data"
    }
   ],
   "source": [
    "# Plot both histogram to see their difference\n",
    "plt.hist(review_length_train, bins=bins_train, label=\"Train\")\n",
    "plt.hist(review_length_test, bins=bins_test, alpha=0.5, label=\"Test\")\n",
    "plt.xlim(0, 600)\n",
    "plt.legend()\n",
    "plt.show()"
   ]
  },
  {
   "cell_type": "markdown",
   "id": "7ab63bf3",
   "metadata": {},
   "source": [
    "## Vocabulary"
   ]
  },
  {
   "cell_type": "code",
   "execution_count": 8,
   "id": "59bfded7",
   "metadata": {},
   "outputs": [],
   "source": [
    "class Vocabulary:\n",
    "  def __init__(self, token_to_index={}, pad_token='<pad>', unk_token='<unk>'):\n",
    "    self.token_to_index = token_to_index\n",
    "\n",
    "    if len(self.token_to_index) == 0:\n",
    "      self.token_to_index[pad_token] = 0\n",
    "      self.token_to_index[unk_token] = 1\n",
    "\n",
    "    self.index_to_token = {index: token for token, index in self.token_to_index.items()}\n",
    "\n",
    "    self.pad_token = pad_token\n",
    "    self.pad_index = self.token_to_index[self.pad_token]\n",
    "\n",
    "    self.unk_token = unk_token\n",
    "    self.unk_index = self.token_to_index[self.unk_token]\n",
    "  \n",
    "  def __len__(self):\n",
    "    return len(self.token_to_index)\n",
    "\n",
    "  def add_token(self, token):\n",
    "    if token in self.token_to_index:\n",
    "      index = self.token_to_index[token]\n",
    "    else:\n",
    "      index = len(self.token_to_index)\n",
    "      self.token_to_index[token] = index\n",
    "      self.index_to_token[index] = token\n",
    "    return index\n",
    "\n",
    "  def lookup_token(self, token):\n",
    "    return self.token_to_index.get(token, self.unk_index)\n",
    "  \n",
    "  def lookup_index(self, index):\n",
    "    if index not in self.index_to_token:\n",
    "      raise KeyError(f\"the index {index} is not in the Vocabulary\")\n",
    "    return self.index_to_token[index]\n",
    "\n",
    "  # Build vocab from tokenized data filtered by minimun frequency of each word\n",
    "  @classmethod\n",
    "  def build_vocab_with_min_freq(cls, token_lists, min_freq=25):\n",
    "    counter = Counter()\n",
    "    for tokens in token_lists:\n",
    "      counter.update(tokens)\n",
    "    \n",
    "    # '<pad>' is for padding review to have the same length\n",
    "    # '<unk>' is for unknown word that are removed or not in train data\n",
    "    vocab = {'<pad>': 0, '<unk>': 1}\n",
    "    \n",
    "    for word, freq in counter.items():\n",
    "      if freq >= min_freq:\n",
    "        vocab[word] = len(vocab)\n",
    "    \n",
    "    return cls(vocab)\n",
    "\n",
    "  # Build vocab from tokenized data filtered by maximun words in vocab\n",
    "  @classmethod\n",
    "  def build_vocab_with_max_words(cls, token_lists, max_words=8000):\n",
    "    counter = Counter()\n",
    "    for tokens in token_lists:\n",
    "      counter.update(tokens)\n",
    "    \n",
    "    # '<pad>' is for padding review to have the same length\n",
    "    # '<unk>' is for unknown word that are removed or not in train data\n",
    "    vocab = {'<pad>': 0, '<unk>': 1}\n",
    "  \n",
    "    most_common_words = counter.most_common(max_words - 2)\n",
    "    for word, _ in most_common_words:\n",
    "      vocab[word] = len(vocab)\n",
    "\n",
    "    return cls(vocab)"
   ]
  },
  {
   "cell_type": "code",
   "execution_count": 9,
   "id": "956ed0fb",
   "metadata": {},
   "outputs": [
    {
     "data": {
      "text/plain": [
       "8000"
      ]
     },
     "execution_count": 9,
     "metadata": {},
     "output_type": "execute_result"
    }
   ],
   "source": [
    "# Build vocabulary from train data\n",
    "review_vocab = Vocabulary.build_vocab_with_max_words(imdb_df_train['tokens'])\n",
    "len(review_vocab)"
   ]
  },
  {
   "cell_type": "markdown",
   "id": "9fe98f7a",
   "metadata": {},
   "source": [
    "## Vectorizer"
   ]
  },
  {
   "cell_type": "code",
   "execution_count": 10,
   "id": "0f596ced",
   "metadata": {},
   "outputs": [],
   "source": [
    "class Vectorizer:\n",
    "  def __init__(self, vocab: Vocabulary):\n",
    "    self.vocab = vocab\n",
    "    self.vocab_size = len(vocab)\n",
    "\n",
    "  # Turn token into index for embedding\n",
    "  def index_vectorize(self, token_list):\n",
    "    indices = np.zeros(len(token_list), dtype=np.float32)\n",
    "    for i, token in enumerate(token_list):\n",
    "      index = self.vocab.lookup_token(token)\n",
    "      indices[i] = index\n",
    "    return indices\n",
    "\n",
    "  # One-Hot encoder for Feedforward Neural Network\n",
    "  def onehot_vectorize(self, token_list):\n",
    "    onehot = np.zeros(self.vocab_size, dtype=np.float32)\n",
    "    for token in token_list:\n",
    "      index = self.vocab.lookup_token(token)\n",
    "      onehot[index] += 1.0\n",
    "    return onehot"
   ]
  },
  {
   "cell_type": "code",
   "execution_count": 11,
   "id": "7b619739",
   "metadata": {},
   "outputs": [],
   "source": [
    "review_vectorizer = Vectorizer(review_vocab)"
   ]
  },
  {
   "cell_type": "code",
   "execution_count": 12,
   "id": "de6161c1",
   "metadata": {},
   "outputs": [
    {
     "data": {
      "text/plain": [
       "array([1.000e+00, 1.870e+02, 8.950e+02, 1.010e+02, 1.959e+03, 7.000e+00,\n",
       "       6.013e+03, 2.510e+02, 3.500e+01, 5.070e+03, 5.800e+01, 4.195e+03,\n",
       "       5.536e+03, 3.480e+02, 1.450e+02, 1.000e+00, 1.870e+02, 1.931e+03,\n",
       "       1.400e+01, 2.343e+03, 4.690e+02, 5.070e+03, 1.000e+00, 1.782e+03,\n",
       "       1.000e+00, 5.456e+03, 1.312e+03, 1.200e+01, 9.900e+01, 1.002e+03,\n",
       "       5.070e+03, 1.000e+00, 1.000e+00, 1.150e+02, 7.280e+02, 2.976e+03,\n",
       "       5.380e+03, 5.440e+02, 1.312e+03, 1.070e+02, 2.650e+02, 1.269e+03,\n",
       "       3.292e+03, 6.410e+02, 3.320e+03, 2.510e+02, 1.087e+03, 1.000e+00,\n",
       "       1.870e+02, 2.410e+02, 2.310e+02, 3.118e+03, 1.000e+00, 4.000e+00,\n",
       "       5.070e+03, 1.269e+03, 2.251e+03, 1.000e+00, 1.870e+02, 3.880e+02,\n",
       "       3.300e+01, 1.408e+03, 4.380e+02, 2.600e+01, 1.000e+00, 1.870e+02,\n",
       "       1.180e+02, 4.097e+03, 2.130e+03], dtype=float32)"
      ]
     },
     "execution_count": 12,
     "metadata": {},
     "output_type": "execute_result"
    }
   ],
   "source": [
    "# See example of index vectorize\n",
    "review_vectorizer.index_vectorize(imdb_df_train['tokens'][0])"
   ]
  },
  {
   "cell_type": "code",
   "execution_count": 13,
   "id": "47894bc7",
   "metadata": {},
   "outputs": [
    {
     "data": {
      "text/plain": [
       "(array([ 0., 10.,  0., ...,  0.,  0.,  0.], dtype=float32),\n",
       " [('<unk>', 1, np.float32(10.0)),\n",
       "  ('one', 4, np.float32(1.0)),\n",
       "  ('time', 7, np.float32(1.0)),\n",
       "  ('see', 12, np.float32(1.0)),\n",
       "  ('much', 14, np.float32(1.0)),\n",
       "  ('think', 26, np.float32(1.0)),\n",
       "  ('many', 33, np.float32(1.0)),\n",
       "  ('life', 35, np.float32(1.0)),\n",
       "  ('years', 58, np.float32(1.0)),\n",
       "  ('right', 99, np.float32(1.0)),\n",
       "  ('comedy', 101, np.float32(1.0)),\n",
       "  ('saw', 107, np.float32(1.0)),\n",
       "  ('whole', 115, np.float32(1.0)),\n",
       "  ('far', 118, np.float32(1.0)),\n",
       "  ('believe', 145, np.float32(1.0)),\n",
       "  ('high', 187, np.float32(5.0)),\n",
       "  ('line', 231, np.float32(1.0)),\n",
       "  ('classic', 241, np.float32(1.0)),\n",
       "  ('school', 251, np.float32(2.0)),\n",
       "  ('episode', 265, np.float32(1.0)),\n",
       "  ('lead', 348, np.float32(1.0)),\n",
       "  ('expect', 388, np.float32(1.0)),\n",
       "  ('age', 438, np.float32(1.0)),\n",
       "  ('reality', 469, np.float32(1.0)),\n",
       "  ('knew', 544, np.float32(1.0)),\n",
       "  ('tried', 641, np.float32(1.0)),\n",
       "  ('situation', 728, np.float32(1.0)),\n",
       "  ('cartoon', 895, np.float32(1.0)),\n",
       "  ('pathetic', 1002, np.float32(1.0)),\n",
       "  ('immediately', 1087, np.float32(1.0)),\n",
       "  ('student', 1269, np.float32(2.0)),\n",
       "  ('students', 1312, np.float32(2.0)),\n",
       "  ('adults', 1408, np.float32(1.0)),\n",
       "  ('survive', 1782, np.float32(1.0)),\n",
       "  ('satire', 1931, np.float32(1.0)),\n",
       "  ('ran', 1959, np.float32(1.0)),\n",
       "  ('pity', 2130, np.float32(1.0)),\n",
       "  ('welcome', 2251, np.float32(1.0)),\n",
       "  ('closer', 2343, np.float32(1.0)),\n",
       "  ('remind', 2976, np.float32(1.0)),\n",
       "  ('inspector', 3118, np.float32(1.0)),\n",
       "  ('repeatedly', 3292, np.float32(1.0)),\n",
       "  ('burn', 3320, np.float32(1.0)),\n",
       "  ('fetched', 4097, np.float32(1.0)),\n",
       "  ('teaching', 4195, np.float32(1.0)),\n",
       "  ('teachers', 5070, np.float32(4.0)),\n",
       "  ('schools', 5380, np.float32(1.0)),\n",
       "  ('insightful', 5456, np.float32(1.0)),\n",
       "  ('profession', 5536, np.float32(1.0)),\n",
       "  ('programs', 6013, np.float32(1.0))])"
      ]
     },
     "execution_count": 13,
     "metadata": {},
     "output_type": "execute_result"
    }
   ],
   "source": [
    "# See example of one hot vectorize\n",
    "onehot = review_vectorizer.onehot_vectorize(imdb_df_train['tokens'][0])\n",
    "onehot, list(filter(lambda x: x[-1] > 0, [(review_vocab.lookup_index(index), index, freq) for index, freq in enumerate(onehot)]))"
   ]
  },
  {
   "cell_type": "markdown",
   "id": "fea5a1f9",
   "metadata": {},
   "source": [
    "## Dataset"
   ]
  },
  {
   "cell_type": "code",
   "execution_count": 14,
   "id": "6191291b",
   "metadata": {},
   "outputs": [],
   "source": [
    "class IndexReviewDataset(Dataset):\n",
    "  def __init__(self, imdb_df, vectorizer: Vectorizer, max_length):\n",
    "    self.review_df = imdb_df\n",
    "    self.vectorizer = vectorizer\n",
    "    self.max_length = max_length\n",
    "    self.pad_index = vectorizer.vocab.pad_index\n",
    "\n",
    "  def __len__(self):\n",
    "    return len(self.review_df)\n",
    "\n",
    "  def __getitem__(self, index):\n",
    "    row = self.review_df.iloc[index]\n",
    "    review_indices = self.vectorizer.index_vectorize(row.tokens[:self.max_length])\n",
    "    padded = np.full(self.max_length, fill_value=self.pad_index)\n",
    "    padded[:len(review_indices)] = review_indices\n",
    "    sentiment_vector = row.sentiment\n",
    "    return {'x': padded,\n",
    "            'y': sentiment_vector}\n",
    "\n",
    "  def get_vectorizer(self):\n",
    "    return self.vectorizer \n",
    "  \n",
    "  def get_num_batches(self, batch_size):\n",
    "    return len(self) // batch_size "
   ]
  },
  {
   "cell_type": "code",
   "execution_count": 15,
   "id": "a94f696c",
   "metadata": {},
   "outputs": [],
   "source": [
    "index_dataset_train = IndexReviewDataset(imdb_df=imdb_df_train, vectorizer=review_vectorizer, max_length=300)\n",
    "index_dataset_test = IndexReviewDataset(imdb_df=imdb_df_test, vectorizer=review_vectorizer, max_length=300)"
   ]
  },
  {
   "cell_type": "code",
   "execution_count": 16,
   "id": "43eb9ba5",
   "metadata": {},
   "outputs": [],
   "source": [
    "class OneHotReviewDataset(Dataset):\n",
    "  def __init__(self, imdb_df, vectorizer: Vectorizer):\n",
    "    self.review_df = imdb_df\n",
    "    self.vectorizer = vectorizer\n",
    "\n",
    "  def __len__(self):\n",
    "    return len(self.review_df)\n",
    "\n",
    "  def __getitem__(self, index):\n",
    "    row = self.review_df.iloc[index]\n",
    "    review_vector = self.vectorizer.onehot_vectorize(row.tokens)\n",
    "    sentiment_vector = row.sentiment\n",
    "    return {'x': review_vector,\n",
    "            'y': sentiment_vector}\n",
    "\n",
    "  def get_vectorizer(self):\n",
    "    return self.vectorizer \n",
    "  \n",
    "  def get_num_batches(self, batch_size):\n",
    "    return len(self) // batch_size "
   ]
  },
  {
   "cell_type": "code",
   "execution_count": 17,
   "id": "b3356256",
   "metadata": {},
   "outputs": [],
   "source": [
    "onehot_dataset_train = OneHotReviewDataset(imdb_df=imdb_df_train, vectorizer=review_vectorizer)\n",
    "onehot_dataset_test = OneHotReviewDataset(imdb_df=imdb_df_test, vectorizer=review_vectorizer)"
   ]
  },
  {
   "cell_type": "markdown",
   "id": "3e783e7b",
   "metadata": {},
   "source": [
    "## Dataloader"
   ]
  },
  {
   "cell_type": "code",
   "execution_count": 18,
   "id": "453b2a66",
   "metadata": {},
   "outputs": [],
   "source": [
    "def generate_batches(dataset, batch_size, \n",
    "                     shuffle=True,\n",
    "                     drop_last=True, \n",
    "                     device=\"cpu\"):\n",
    "  \n",
    "  dataloader = DataLoader(dataset=dataset, \n",
    "                          batch_size=batch_size,\n",
    "                          shuffle=shuffle, \n",
    "                          drop_last=drop_last)\n",
    "\n",
    "  for data_dict in dataloader:\n",
    "    out_data_dict = {}\n",
    "    for name, tensor in data_dict.items():\n",
    "      out_data_dict[name] = data_dict[name].to(device)\n",
    "    yield out_data_dict"
   ]
  },
  {
   "cell_type": "code",
   "execution_count": 100,
   "id": "12d81073",
   "metadata": {},
   "outputs": [
    {
     "name": "stdout",
     "output_type": "stream",
     "text": [
      "x shape: torch.Size([32, 300]), y shape: torch.Size([32])\n",
      "tensor([[ 441, 3937, 5606,  ...,    0,    0,    0],\n",
      "        [ 258,    2,  228,  ...,    0,    0,    0],\n",
      "        [   1, 5036,   77,  ...,    0,    0,    0],\n",
      "        ...,\n",
      "        [   1,  143,    2,  ...,    0,    0,    0],\n",
      "        [ 627,    2,   43,  ...,    0,    0,    0],\n",
      "        [ 310,  361,   39,  ...,    0,    0,    0]])\n",
      "tensor([0, 1, 0, 0, 0, 0, 1, 0, 1, 0, 1, 0, 1, 0, 1, 1, 1, 0, 0, 1, 0, 1, 0, 1,\n",
      "        1, 0, 0, 0, 1, 0, 0, 1])\n"
     ]
    }
   ],
   "source": [
    "# Using generate_batches to get 1 sample at a time\n",
    "for out_dict in generate_batches(dataset=index_dataset_train, batch_size=32):\n",
    "  x_data = out_dict['x']\n",
    "  y_target = out_dict['y']\n",
    "  print(f\"x shape: {x_data.shape}, y shape: {y_target.shape}\")\n",
    "  print(x_data)\n",
    "  print(y_target)\n",
    "  break"
   ]
  },
  {
   "cell_type": "code",
   "execution_count": 101,
   "id": "924f9d52",
   "metadata": {},
   "outputs": [
    {
     "name": "stdout",
     "output_type": "stream",
     "text": [
      "x shape: torch.Size([32, 8000]), y shape: torch.Size([32])\n",
      "tensor([[ 0., 11.,  0.,  ...,  0.,  0.,  0.],\n",
      "        [ 0.,  0.,  2.,  ...,  0.,  0.,  0.],\n",
      "        [ 0.,  6.,  0.,  ...,  0.,  0.,  0.],\n",
      "        ...,\n",
      "        [ 0.,  1.,  2.,  ...,  0.,  0.,  0.],\n",
      "        [ 0., 14.,  1.,  ...,  0.,  0.,  0.],\n",
      "        [ 0.,  8.,  1.,  ...,  0.,  0.,  0.]])\n",
      "tensor([1, 1, 0, 0, 0, 1, 1, 0, 1, 0, 1, 0, 1, 1, 0, 0, 1, 1, 0, 1, 0, 0, 0, 1,\n",
      "        0, 0, 0, 1, 0, 0, 1, 1])\n"
     ]
    }
   ],
   "source": [
    "# Using generate_batches to get 1 sample at a time\n",
    "for out_dict in generate_batches(dataset=onehot_dataset_train, batch_size=32):\n",
    "  x_data = out_dict['x']\n",
    "  y_target = out_dict['y']\n",
    "  print(f\"x shape: {x_data.shape}, y shape: {y_target.shape}\")\n",
    "  print(x_data)\n",
    "  print(y_target)\n",
    "  break"
   ]
  },
  {
   "cell_type": "markdown",
   "id": "385423e3",
   "metadata": {},
   "source": [
    "## Model & Training & Evaluation"
   ]
  },
  {
   "cell_type": "code",
   "execution_count": 28,
   "id": "b312d067",
   "metadata": {},
   "outputs": [
    {
     "data": {
      "text/plain": [
       "'cuda'"
      ]
     },
     "execution_count": 28,
     "metadata": {},
     "output_type": "execute_result"
    }
   ],
   "source": [
    "SEED = 42 # Random seed\n",
    "EPOCHS = 10 # How many rpochs to train model\n",
    "BATCH_SIZE = 32 # How many entries in a batch\n",
    "\n",
    "device = 'cuda' if torch.cuda.is_available() else 'cpu'\n",
    "device"
   ]
  },
  {
   "cell_type": "markdown",
   "id": "4706a927",
   "metadata": {},
   "source": [
    "### Utilities"
   ]
  },
  {
   "cell_type": "code",
   "execution_count": 20,
   "id": "db134858",
   "metadata": {},
   "outputs": [],
   "source": [
    "def compute_accuracy(y_pred, y_target):\n",
    "    y_target = y_target.cpu()\n",
    "    y_pred_indices = (torch.sigmoid(y_pred)>0.5).cpu().long()\n",
    "    n_correct = torch.eq(y_pred_indices, y_target).sum().item()\n",
    "    return n_correct / len(y_pred_indices) * 100"
   ]
  },
  {
   "cell_type": "code",
   "execution_count": 29,
   "id": "7ec38ae3",
   "metadata": {},
   "outputs": [],
   "source": [
    "def train_model(model, loss_fn, optimizer, train_dataset, test_dataset, device, epochs=EPOCHS, batch_size=BATCH_SIZE):\n",
    "  BATCH_COUNT_TRAIN = len(train_dataset) // batch_size\n",
    "  BATCH_COUNT_TEST = len(test_dataset) // batch_size\n",
    "\n",
    "  for epoch in range(epochs):\n",
    "    train_loss = 0\n",
    "    train_acc = 0\n",
    "    model.train()\n",
    "\n",
    "    for out_dict in generate_batches(dataset=train_dataset, batch_size=batch_size, device=device):\n",
    "      X = out_dict['x']\n",
    "      y_true = out_dict['y']\n",
    "\n",
    "      y_logits = model(X).squeeze()\n",
    "      loss = loss_fn(y_logits, y_true.float())\n",
    "      train_loss += loss.item()\n",
    "\n",
    "      train_acc += compute_accuracy(y_pred=y_logits, y_target=y_true)\n",
    "\n",
    "      optimizer.zero_grad()\n",
    "      loss.backward()\n",
    "      optimizer.step()\n",
    "\n",
    "    train_loss /= BATCH_COUNT_TRAIN\n",
    "    train_acc /= BATCH_COUNT_TRAIN\n",
    "\n",
    "    test_loss = 0\n",
    "    test_acc = 0\n",
    "    model.eval()\n",
    "\n",
    "    for out_dict in generate_batches(dataset=test_dataset, batch_size=batch_size, device=device):\n",
    "      X = out_dict['x']\n",
    "      y_true = out_dict['y']\n",
    "      with torch.no_grad():\n",
    "        y_logits = model(X).squeeze()\n",
    "        test_loss += loss_fn(y_logits, y_true.float()).item()\n",
    "        test_acc += compute_accuracy(y_pred=y_logits, y_target=y_true)\n",
    "\n",
    "    test_loss /= BATCH_COUNT_TEST\n",
    "    test_acc /= BATCH_COUNT_TEST\n",
    "\n",
    "    print(f\"Epoch {epoch} | Train Loss {train_loss:.4f} | Train Accuracy {train_acc:.4f}% \"\n",
    "          f\"| Test Loss {test_loss:.4f} | Test Accuracy {test_acc:.4f}%\")"
   ]
  },
  {
   "cell_type": "code",
   "execution_count": 38,
   "id": "faa209c2",
   "metadata": {},
   "outputs": [],
   "source": [
    "def evaluate_model(model, test_dataset, device, threshold=0.5):\n",
    "    all_preds = []\n",
    "    all_targets = []\n",
    "\n",
    "    model.eval()\n",
    "    for out_dict in generate_batches(dataset=test_dataset, batch_size=32, device=device):\n",
    "        X = out_dict['x']\n",
    "        y_true = out_dict['y']\n",
    "\n",
    "        with torch.no_grad():\n",
    "            y_logits = model(X).squeeze()\n",
    "            y_pred = (torch.sigmoid(y_logits) > threshold).long()\n",
    "\n",
    "        all_preds.extend(y_pred.cpu().numpy())\n",
    "        all_targets.extend(y_true.cpu().numpy())\n",
    "\n",
    "    # Compute classification metrics\n",
    "    accuracy = accuracy_score(all_targets, all_preds)\n",
    "    precision = precision_score(all_targets, all_preds)\n",
    "    recall = recall_score(all_targets, all_preds)\n",
    "    f1 = f1_score(all_targets, all_preds)\n",
    "\n",
    "    print(f\"Accuracy: {accuracy:.4f}\")\n",
    "    print(f\"Precision: {precision:.4f}\")\n",
    "    print(f\"Recall: {recall:.4f}\")\n",
    "    print(f\"F1-score: {f1:.4f}\")\n",
    "\n",
    "    # Confusion matrix\n",
    "    all_preds_tensor = torch.tensor(all_preds)\n",
    "    all_targets_tensor = torch.tensor(all_targets)\n",
    "\n",
    "    confmat = ConfusionMatrix(task=\"binary\", num_classes=2)\n",
    "    cf_matrix = confmat(all_preds_tensor, all_targets_tensor).cpu().numpy()\n",
    "\n",
    "    # Plot the confusion matrix\n",
    "    fig, ax = plot_confusion_matrix(conf_mat=cf_matrix,\n",
    "                                    class_names=[\"Negative\", \"Positive\"],\n",
    "                                    show_normed=True,\n",
    "                                    colorbar=True)\n",
    "    plt.show()\n",
    "\n",
    "    return (accuracy, precision, recall, f1)\n"
   ]
  },
  {
   "cell_type": "markdown",
   "id": "58303d5e",
   "metadata": {},
   "source": [
    "### Feedforward Neural Network"
   ]
  },
  {
   "cell_type": "code",
   "execution_count": 24,
   "id": "74048ce2",
   "metadata": {},
   "outputs": [],
   "source": [
    "class FeedForward(nn.Module):\n",
    "  def __init__(self, input_shape, hidden_units, output_shape):\n",
    "    super().__init__()\n",
    "    self.layers = nn.Sequential(\n",
    "      nn.Linear(in_features=input_shape, out_features=hidden_units),\n",
    "      nn.ReLU(),\n",
    "      nn.Linear(in_features=hidden_units, out_features=output_shape)\n",
    "    )\n",
    "  \n",
    "  def forward(self, x):\n",
    "    return self.layers(x)"
   ]
  },
  {
   "cell_type": "code",
   "execution_count": 25,
   "id": "ffa0de6a",
   "metadata": {},
   "outputs": [
    {
     "name": "stdout",
     "output_type": "stream",
     "text": [
      "Epoch 0 | Train Loss 0.3342 | Train Accuracy 86.8569% | Test Loss 0.2781 | Test Accuracy 89.0705%\n",
      "Epoch 1 | Train Loss 0.2239 | Train Accuracy 91.4683% | Test Loss 0.3027 | Test Accuracy 88.1490%\n",
      "Epoch 2 | Train Loss 0.1959 | Train Accuracy 92.6478% | Test Loss 0.3095 | Test Accuracy 88.1090%\n",
      "Epoch 3 | Train Loss 0.1783 | Train Accuracy 93.1015% | Test Loss 0.3578 | Test Accuracy 87.2596%\n",
      "Epoch 4 | Train Loss 0.1659 | Train Accuracy 93.6219% | Test Loss 0.3668 | Test Accuracy 87.2436%\n",
      "Epoch 5 | Train Loss 0.1526 | Train Accuracy 94.1983% | Test Loss 0.3862 | Test Accuracy 87.1474%\n",
      "Epoch 6 | Train Loss 0.1396 | Train Accuracy 94.7187% | Test Loss 0.4090 | Test Accuracy 87.0913%\n",
      "Epoch 7 | Train Loss 0.1282 | Train Accuracy 95.0656% | Test Loss 0.4210 | Test Accuracy 86.8750%\n",
      "Epoch 8 | Train Loss 0.1134 | Train Accuracy 95.7301% | Test Loss 0.4558 | Test Accuracy 86.5304%\n",
      "Epoch 9 | Train Loss 0.0999 | Train Accuracy 96.2399% | Test Loss 0.4768 | Test Accuracy 86.6506%\n"
     ]
    }
   ],
   "source": [
    "np.random.seed(SEED)\n",
    "torch.manual_seed(SEED)\n",
    "torch.cuda.manual_seed_all(SEED)\n",
    "\n",
    "model_fnn = FeedForward(len(review_vocab), 10, 1).to(device=device)\n",
    "loss_fn = nn.BCEWithLogitsLoss()\n",
    "optimizer = optim.Adam(params=model_fnn.parameters(), lr=0.001)\n",
    "\n",
    "train_model(model=model_fnn, loss_fn=loss_fn, optimizer=optimizer, train_dataset=onehot_dataset_train, \n",
    "            test_dataset=onehot_dataset_test, device=device)"
   ]
  },
  {
   "cell_type": "markdown",
   "id": "2fe90e20",
   "metadata": {},
   "source": [
    "It seems this model is **overfitting**, try making it less complex."
   ]
  },
  {
   "cell_type": "code",
   "execution_count": 26,
   "id": "9cb6f789",
   "metadata": {},
   "outputs": [],
   "source": [
    "class FeedForward_1Layer(nn.Module):\n",
    "  def __init__(self, input_shape, output_shape):\n",
    "    super().__init__()\n",
    "    self.layers = nn.Sequential(\n",
    "      nn.Linear(in_features=input_shape, out_features=output_shape)\n",
    "    )\n",
    "  \n",
    "  def forward(self, x):\n",
    "    return self.layers(x)"
   ]
  },
  {
   "cell_type": "code",
   "execution_count": 27,
   "id": "b799af9f",
   "metadata": {},
   "outputs": [
    {
     "name": "stdout",
     "output_type": "stream",
     "text": [
      "Epoch 0 | Train Loss 0.4024 | Train Accuracy 86.3872% | Test Loss 0.3145 | Test Accuracy 88.8462%\n",
      "Epoch 1 | Train Loss 0.2745 | Train Accuracy 90.4756% | Test Loss 0.2818 | Test Accuracy 89.5673%\n",
      "Epoch 2 | Train Loss 0.2383 | Train Accuracy 91.5991% | Test Loss 0.2729 | Test Accuracy 89.3910%\n",
      "Epoch 3 | Train Loss 0.2172 | Train Accuracy 92.3730% | Test Loss 0.2720 | Test Accuracy 89.3029%\n",
      "Epoch 4 | Train Loss 0.2027 | Train Accuracy 92.9467% | Test Loss 0.2713 | Test Accuracy 89.3269%\n",
      "Epoch 5 | Train Loss 0.1921 | Train Accuracy 93.3310% | Test Loss 0.2736 | Test Accuracy 89.1346%\n",
      "Epoch 6 | Train Loss 0.1833 | Train Accuracy 93.5579% | Test Loss 0.2775 | Test Accuracy 89.0785%\n",
      "Epoch 7 | Train Loss 0.1758 | Train Accuracy 93.9021% | Test Loss 0.2845 | Test Accuracy 88.7821%\n",
      "Epoch 8 | Train Loss 0.1699 | Train Accuracy 94.0996% | Test Loss 0.2865 | Test Accuracy 88.8702%\n",
      "Epoch 9 | Train Loss 0.1644 | Train Accuracy 94.3985% | Test Loss 0.2955 | Test Accuracy 88.5337%\n"
     ]
    }
   ],
   "source": [
    "np.random.seed(SEED)\n",
    "torch.manual_seed(SEED)\n",
    "torch.cuda.manual_seed_all(SEED)\n",
    "\n",
    "model_fnn = FeedForward_1Layer(len(review_vocab), 1).to(device=device)\n",
    "loss_fn = nn.BCEWithLogitsLoss()\n",
    "optimizer = optim.Adam(params=model_fnn.parameters(), lr=0.001)\n",
    "\n",
    "train_model(model=model_fnn, loss_fn=loss_fn, optimizer=optimizer, train_dataset=onehot_dataset_train, \n",
    "            test_dataset=onehot_dataset_test, device=device)"
   ]
  },
  {
   "cell_type": "markdown",
   "id": "72f8c525",
   "metadata": {},
   "source": [
    "It is still **overfitting**, try lower learning rate."
   ]
  },
  {
   "cell_type": "code",
   "execution_count": 30,
   "id": "96fbf3de",
   "metadata": {},
   "outputs": [
    {
     "name": "stdout",
     "output_type": "stream",
     "text": [
      "Epoch 0 | Train Loss 0.6050 | Train Accuracy 77.5753% | Test Loss 0.5392 | Test Accuracy 84.2548%\n",
      "Epoch 1 | Train Loss 0.4929 | Train Accuracy 86.2057% | Test Loss 0.4631 | Test Accuracy 86.6346%\n",
      "Epoch 2 | Train Loss 0.4300 | Train Accuracy 87.7882% | Test Loss 0.4163 | Test Accuracy 87.4679%\n",
      "Epoch 3 | Train Loss 0.3889 | Train Accuracy 88.6262% | Test Loss 0.3844 | Test Accuracy 87.9567%\n",
      "Epoch 4 | Train Loss 0.3595 | Train Accuracy 89.2026% | Test Loss 0.3623 | Test Accuracy 88.4375%\n",
      "Epoch 5 | Train Loss 0.3377 | Train Accuracy 89.5549% | Test Loss 0.3452 | Test Accuracy 88.7099%\n",
      "Epoch 6 | Train Loss 0.3207 | Train Accuracy 89.9125% | Test Loss 0.3324 | Test Accuracy 88.8301%\n",
      "Epoch 7 | Train Loss 0.3069 | Train Accuracy 90.2461% | Test Loss 0.3230 | Test Accuracy 88.8542%\n",
      "Epoch 8 | Train Loss 0.2955 | Train Accuracy 90.4996% | Test Loss 0.3139 | Test Accuracy 89.0785%\n",
      "Epoch 9 | Train Loss 0.2859 | Train Accuracy 90.7531% | Test Loss 0.3076 | Test Accuracy 89.1106%\n"
     ]
    }
   ],
   "source": [
    "np.random.seed(SEED)\n",
    "torch.manual_seed(SEED)\n",
    "torch.cuda.manual_seed_all(SEED)\n",
    "\n",
    "model_fnn = FeedForward_1Layer(len(review_vocab), 1).to(device=device)\n",
    "loss_fn = nn.BCEWithLogitsLoss()\n",
    "optimizer = optim.Adam(params=model_fnn.parameters(), lr=0.0001)\n",
    "\n",
    "train_model(model=model_fnn, loss_fn=loss_fn, optimizer=optimizer, train_dataset=onehot_dataset_train, \n",
    "            test_dataset=onehot_dataset_test, device=device)"
   ]
  },
  {
   "cell_type": "code",
   "execution_count": 39,
   "id": "9e5c9e05",
   "metadata": {},
   "outputs": [
    {
     "name": "stdout",
     "output_type": "stream",
     "text": [
      "Accuracy: 0.8912\n",
      "Precision: 0.8870\n",
      "Recall: 0.8966\n",
      "F1-score: 0.8918\n"
     ]
    },
    {
     "data": {
      "image/png": "[encoded data removed]",
      "text/plain": [
       "<Figure size 640x480 with 2 Axes>"
      ]
     },
     "metadata": {},
     "output_type": "display_data"
    }
   ],
   "source": [
    "accuracy_fnn, precision_fnn, recall_fnn, f1_fnn = evaluate_model(model=model_fnn,\n",
    "               test_dataset=onehot_dataset_test,\n",
    "               device=device)"
   ]
  },
  {
   "cell_type": "markdown",
   "id": "e8e9242d",
   "metadata": {},
   "source": [
    "### RNN"
   ]
  },
  {
   "cell_type": "code",
   "execution_count": 33,
   "id": "1dfec055",
   "metadata": {},
   "outputs": [],
   "source": [
    "class RNN(nn.Module):\n",
    "  def __init__(self, vocab_size, embedding_shape, hidden_units, output_shape):\n",
    "    super().__init__()\n",
    "    self.embedding = nn.Embedding(num_embeddings=vocab_size, embedding_dim=embedding_shape, padding_idx=0)\n",
    "    self.rnn = nn.RNN(input_size=embedding_shape, hidden_size=hidden_units, batch_first=True,)\n",
    "    self.fc = nn.Linear(hidden_units, output_shape)\n",
    "\n",
    "  def forward(self, x):\n",
    "    # x: [batch_size, seq_len]\n",
    "    embedded = self.embedding(x)        # [batch_size, seq_len, embedding_dim]\n",
    "    rnn_out, _ = self.rnn(embedded)     # [batch_size, seq_len, hidden_size]\n",
    "    final_features = rnn_out[:, -1, :]  # [batch_size, hidden_size]\n",
    "    return self.fc(final_features)      # [batch_size, 1]"
   ]
  },
  {
   "cell_type": "code",
   "execution_count": 34,
   "id": "911e2d1f",
   "metadata": {},
   "outputs": [
    {
     "name": "stdout",
     "output_type": "stream",
     "text": [
      "Epoch 0 | Train Loss 0.6964 | Train Accuracy 50.4030% | Test Loss 0.6988 | Test Accuracy 49.9119%\n",
      "Epoch 1 | Train Loss 0.6955 | Train Accuracy 50.1895% | Test Loss 0.6948 | Test Accuracy 49.0064%\n",
      "Epoch 2 | Train Loss 0.6954 | Train Accuracy 50.2108% | Test Loss 0.6961 | Test Accuracy 50.2083%\n",
      "Epoch 3 | Train Loss 0.6951 | Train Accuracy 50.2775% | Test Loss 0.6996 | Test Accuracy 50.6330%\n",
      "Epoch 4 | Train Loss 0.6952 | Train Accuracy 50.4830% | Test Loss 0.6958 | Test Accuracy 50.5128%\n",
      "Epoch 5 | Train Loss 0.6951 | Train Accuracy 50.6271% | Test Loss 0.6948 | Test Accuracy 50.1362%\n",
      "Epoch 6 | Train Loss 0.6951 | Train Accuracy 50.4403% | Test Loss 0.6935 | Test Accuracy 50.1282%\n",
      "Epoch 7 | Train Loss 0.6957 | Train Accuracy 50.1868% | Test Loss 0.6951 | Test Accuracy 50.2003%\n",
      "Epoch 8 | Train Loss 0.6955 | Train Accuracy 50.1628% | Test Loss 0.6938 | Test Accuracy 50.0321%\n",
      "Epoch 9 | Train Loss 0.6950 | Train Accuracy 50.4323% | Test Loss 0.6984 | Test Accuracy 50.5769%\n"
     ]
    }
   ],
   "source": [
    "np.random.seed(SEED)\n",
    "torch.manual_seed(SEED)\n",
    "torch.cuda.manual_seed_all(SEED)\n",
    "\n",
    "model_rnn = RNN(vocab_size=len(review_vocab), embedding_shape=100, hidden_units=128, output_shape=1).to(device=device)\n",
    "loss_fn = nn.BCEWithLogitsLoss()\n",
    "optimizer = optim.Adam(params=model_rnn.parameters(), lr=0.001)\n",
    "\n",
    "train_model(model=model_rnn, loss_fn=loss_fn, optimizer=optimizer, train_dataset=index_dataset_train, \n",
    "            test_dataset=index_dataset_test, device=device)"
   ]
  },
  {
   "cell_type": "markdown",
   "id": "eb7f4fce",
   "metadata": {},
   "source": [
    "It seems this model shows sign of both underfitting and overfitting, try add bidirection and dropout."
   ]
  },
  {
   "cell_type": "code",
   "execution_count": 35,
   "id": "f4fbc6a3",
   "metadata": {},
   "outputs": [],
   "source": [
    "class RNN(nn.Module):\n",
    "  def __init__(self, vocab_size, embedding_shape, hidden_units, output_shape):\n",
    "    super().__init__()\n",
    "    self.embedding = nn.Embedding(vocab_size, embedding_shape, padding_idx=0)\n",
    "    self.rnn = nn.RNN(embedding_shape, hidden_units, batch_first=True, bidirectional=True)\n",
    "    self.dropout = nn.Dropout(0.5)\n",
    "    self.fc = nn.Linear(hidden_units * 2, output_shape)\n",
    "\n",
    "  def forward(self, x):\n",
    "    embedded = self.embedding(x)\n",
    "    rnn_out, _ = self.rnn(embedded)\n",
    "    final_features = self.dropout(rnn_out[:, -1, :])\n",
    "    return self.fc(final_features)"
   ]
  },
  {
   "cell_type": "code",
   "execution_count": 36,
   "id": "7e67e854",
   "metadata": {},
   "outputs": [
    {
     "name": "stdout",
     "output_type": "stream",
     "text": [
      "Epoch 0 | Train Loss 0.6964 | Train Accuracy 50.3843% | Test Loss 0.6932 | Test Accuracy 51.1779%\n",
      "Epoch 1 | Train Loss 0.6956 | Train Accuracy 50.7979% | Test Loss 0.6960 | Test Accuracy 51.6186%\n",
      "Epoch 2 | Train Loss 0.6945 | Train Accuracy 50.8940% | Test Loss 0.6981 | Test Accuracy 50.6811%\n",
      "Epoch 3 | Train Loss 0.6926 | Train Accuracy 50.5124% | Test Loss 0.7005 | Test Accuracy 48.8381%\n",
      "Epoch 4 | Train Loss 0.6883 | Train Accuracy 51.8627% | Test Loss 0.7006 | Test Accuracy 50.9054%\n",
      "Epoch 5 | Train Loss 0.6864 | Train Accuracy 51.8974% | Test Loss 0.7027 | Test Accuracy 50.9455%\n",
      "Epoch 6 | Train Loss 0.6840 | Train Accuracy 51.9241% | Test Loss 0.7068 | Test Accuracy 51.2099%\n",
      "Epoch 7 | Train Loss 0.6832 | Train Accuracy 51.8547% | Test Loss 0.7158 | Test Accuracy 51.0577%\n",
      "Epoch 8 | Train Loss 0.6820 | Train Accuracy 51.8707% | Test Loss 0.7109 | Test Accuracy 50.3365%\n",
      "Epoch 9 | Train Loss 0.6804 | Train Accuracy 52.0709% | Test Loss 0.7079 | Test Accuracy 51.3301%\n"
     ]
    }
   ],
   "source": [
    "np.random.seed(SEED)\n",
    "torch.manual_seed(SEED)\n",
    "torch.cuda.manual_seed_all(SEED)\n",
    "\n",
    "model_rnn = RNN(vocab_size=len(review_vocab), embedding_shape=100, hidden_units=128, output_shape=1).to(device=device)\n",
    "loss_fn = nn.BCEWithLogitsLoss()\n",
    "optimizer = optim.Adam(params=model_rnn.parameters(), lr=0.001)\n",
    "\n",
    "train_model(model=model_rnn, loss_fn=loss_fn, optimizer=optimizer, train_dataset=index_dataset_train, \n",
    "            test_dataset=index_dataset_test, device=device)"
   ]
  },
  {
   "cell_type": "code",
   "execution_count": 40,
   "id": "fdd93b01",
   "metadata": {},
   "outputs": [
    {
     "name": "stdout",
     "output_type": "stream",
     "text": [
      "Accuracy: 0.5135\n",
      "Precision: 0.5125\n",
      "Recall: 0.5504\n",
      "F1-score: 0.5308\n"
     ]
    },
    {
     "data": {
      "image/png": "[encoded data removed]",
      "text/plain": [
       "<Figure size 640x480 with 2 Axes>"
      ]
     },
     "metadata": {},
     "output_type": "display_data"
    }
   ],
   "source": [
    "accuracy_rnn, precision_rnn, recall_rnn, f1_rnn = evaluate_model(model=model_rnn,\n",
    "               test_dataset=index_dataset_test,\n",
    "               device=device)"
   ]
  },
  {
   "cell_type": "markdown",
   "id": "e6e36672",
   "metadata": {},
   "source": [
    "## GRU"
   ]
  },
  {
   "cell_type": "code",
   "execution_count": 41,
   "id": "babe6ccc",
   "metadata": {},
   "outputs": [],
   "source": [
    "class GRU(nn.Module):\n",
    "  def __init__(self, vocab_size, embedding_shape, hidden_units, output_shape):\n",
    "    super().__init__()\n",
    "    self.embedding = nn.Embedding(vocab_size, embedding_shape, padding_idx=0)\n",
    "    self.rnn = nn.GRU(embedding_shape, hidden_units, batch_first=True, bidirectional=True)\n",
    "    self.dropout = nn.Dropout(0.5)\n",
    "    self.fc = nn.Linear(hidden_units * 2, output_shape)\n",
    "\n",
    "  def forward(self, x):\n",
    "    embedded = self.embedding(x)\n",
    "    rnn_out, _ = self.rnn(embedded)\n",
    "    final_features = self.dropout(rnn_out[:, -1, :])\n",
    "    return self.fc(final_features)"
   ]
  },
  {
   "cell_type": "code",
   "execution_count": 42,
   "id": "4721673c",
   "metadata": {},
   "outputs": [
    {
     "name": "stdout",
     "output_type": "stream",
     "text": [
      "Epoch 0 | Train Loss 0.6937 | Train Accuracy 50.5177% | Test Loss 0.6932 | Test Accuracy 50.5769%\n",
      "Epoch 1 | Train Loss 0.6898 | Train Accuracy 50.9554% | Test Loss 0.6954 | Test Accuracy 49.5513%\n",
      "Epoch 2 | Train Loss 0.6805 | Train Accuracy 51.7667% | Test Loss 0.7003 | Test Accuracy 50.6250%\n",
      "Epoch 3 | Train Loss 0.6675 | Train Accuracy 52.3911% | Test Loss 0.7080 | Test Accuracy 50.5128%\n",
      "Epoch 4 | Train Loss 0.6594 | Train Accuracy 52.8635% | Test Loss 0.7210 | Test Accuracy 51.4022%\n",
      "Epoch 5 | Train Loss 0.6203 | Train Accuracy 60.6880% | Test Loss 0.5311 | Test Accuracy 76.2821%\n",
      "Epoch 6 | Train Loss 0.3906 | Train Accuracy 83.5958% | Test Loss 0.3760 | Test Accuracy 83.8141%\n",
      "Epoch 7 | Train Loss 0.2633 | Train Accuracy 89.7443% | Test Loss 0.3468 | Test Accuracy 85.7051%\n",
      "Epoch 8 | Train Loss 0.1866 | Train Accuracy 93.2990% | Test Loss 0.3783 | Test Accuracy 85.9295%\n",
      "Epoch 9 | Train Loss 0.1227 | Train Accuracy 95.9837% | Test Loss 0.3915 | Test Accuracy 85.7692%\n"
     ]
    }
   ],
   "source": [
    "np.random.seed(SEED)\n",
    "torch.manual_seed(SEED)\n",
    "torch.cuda.manual_seed_all(SEED)\n",
    "\n",
    "model_gru = GRU(vocab_size=len(review_vocab), embedding_shape=100, hidden_units=128, output_shape=1).to(device=device)\n",
    "loss_fn = nn.BCEWithLogitsLoss()\n",
    "optimizer = optim.Adam(params=model_gru.parameters(), lr=0.001)\n",
    "\n",
    "train_model(model=model_gru, loss_fn=loss_fn, optimizer=optimizer, train_dataset=index_dataset_train, \n",
    "            test_dataset=index_dataset_test, device=device)"
   ]
  },
  {
   "cell_type": "code",
   "execution_count": 43,
   "id": "7eff574c",
   "metadata": {},
   "outputs": [
    {
     "name": "stdout",
     "output_type": "stream",
     "text": [
      "Accuracy: 0.8577\n",
      "Precision: 0.8488\n",
      "Recall: 0.8705\n",
      "F1-score: 0.8595\n"
     ]
    },
    {
     "data": {
      "image/png": "[encoded data removed]",
      "text/plain": [
       "<Figure size 640x480 with 2 Axes>"
      ]
     },
     "metadata": {},
     "output_type": "display_data"
    }
   ],
   "source": [
    "accuracy_gru, precision_gru, recall_gru, f1_gru = evaluate_model(model=model_gru,\n",
    "               test_dataset=index_dataset_test,\n",
    "               device=device)"
   ]
  },
  {
   "cell_type": "markdown",
   "id": "db5bcff8",
   "metadata": {},
   "source": [
    "## LSTM"
   ]
  },
  {
   "cell_type": "code",
   "execution_count": 44,
   "id": "85686816",
   "metadata": {},
   "outputs": [],
   "source": [
    "class LSTM(nn.Module):\n",
    "  def __init__(self, vocab_size, embedding_shape, hidden_units, output_shape):\n",
    "    super().__init__()\n",
    "    self.embedding = nn.Embedding(vocab_size, embedding_shape, padding_idx=0)\n",
    "    self.rnn = nn.LSTM(embedding_shape, hidden_units, batch_first=True, bidirectional=True)\n",
    "    self.dropout = nn.Dropout(0.5)\n",
    "    self.fc = nn.Linear(hidden_units * 2, output_shape)\n",
    "\n",
    "  def forward(self, x):\n",
    "    embedded = self.embedding(x)\n",
    "    rnn_out, _ = self.rnn(embedded)\n",
    "    final_features = self.dropout(rnn_out[:, -1, :])\n",
    "    return self.fc(final_features)"
   ]
  },
  {
   "cell_type": "code",
   "execution_count": 45,
   "id": "7cdd8fff",
   "metadata": {},
   "outputs": [
    {
     "name": "stdout",
     "output_type": "stream",
     "text": [
      "Epoch 0 | Train Loss 0.6932 | Train Accuracy 50.3069% | Test Loss 0.6933 | Test Accuracy 50.7051%\n",
      "Epoch 1 | Train Loss 0.6907 | Train Accuracy 51.0221% | Test Loss 0.6950 | Test Accuracy 49.9279%\n",
      "Epoch 2 | Train Loss 0.6861 | Train Accuracy 51.3583% | Test Loss 0.6957 | Test Accuracy 49.9840%\n",
      "Epoch 3 | Train Loss 0.6665 | Train Accuracy 55.6869% | Test Loss 0.6759 | Test Accuracy 61.9631%\n",
      "Epoch 4 | Train Loss 0.6567 | Train Accuracy 57.1227% | Test Loss 0.7066 | Test Accuracy 50.6490%\n",
      "Epoch 5 | Train Loss 0.6304 | Train Accuracy 63.5808% | Test Loss 0.5941 | Test Accuracy 71.0737%\n",
      "Epoch 6 | Train Loss 0.5665 | Train Accuracy 70.5006% | Test Loss 0.6564 | Test Accuracy 58.2612%\n",
      "Epoch 7 | Train Loss 0.5009 | Train Accuracy 76.4784% | Test Loss 0.5027 | Test Accuracy 78.4856%\n",
      "Epoch 8 | Train Loss 0.4195 | Train Accuracy 82.0506% | Test Loss 0.4478 | Test Accuracy 81.1298%\n",
      "Epoch 9 | Train Loss 0.3668 | Train Accuracy 85.2130% | Test Loss 0.4294 | Test Accuracy 82.6042%\n"
     ]
    }
   ],
   "source": [
    "np.random.seed(SEED)\n",
    "torch.manual_seed(SEED)\n",
    "torch.cuda.manual_seed_all(SEED)\n",
    "\n",
    "model_lstm = LSTM(vocab_size=len(review_vocab), embedding_shape=100, hidden_units=128, output_shape=1).to(device=device)\n",
    "loss_fn = nn.BCEWithLogitsLoss()\n",
    "optimizer = optim.Adam(params=model_lstm.parameters(), lr=0.001)\n",
    "\n",
    "train_model(model=model_lstm, loss_fn=loss_fn, optimizer=optimizer, train_dataset=index_dataset_train, \n",
    "            test_dataset=index_dataset_test, device=device)"
   ]
  },
  {
   "cell_type": "code",
   "execution_count": 46,
   "id": "846f82d9",
   "metadata": {},
   "outputs": [
    {
     "name": "stdout",
     "output_type": "stream",
     "text": [
      "Accuracy: 0.8260\n",
      "Precision: 0.8432\n",
      "Recall: 0.8012\n",
      "F1-score: 0.8217\n"
     ]
    },
    {
     "data": {
      "image/png": "[encoded data removed]",
      "text/plain": [
       "<Figure size 640x480 with 2 Axes>"
      ]
     },
     "metadata": {},
     "output_type": "display_data"
    }
   ],
   "source": [
    "accuracy_lstm, precision_lstm, recall_lstm, f1_lstm = evaluate_model(model=model_lstm,\n",
    "               test_dataset=index_dataset_test,\n",
    "               device=device)"
   ]
  },
  {
   "cell_type": "markdown",
   "id": "333aa325",
   "metadata": {},
   "source": [
    "## Results"
   ]
  },
  {
   "cell_type": "code",
   "execution_count": 47,
   "id": "52599932",
   "metadata": {},
   "outputs": [
    {
     "data": {
      "text/html": [
       "<div>\n",
       "<style scoped>\n",
       "    .dataframe tbody tr th:only-of-type {\n",
       "        vertical-align: middle;\n",
       "    }\n",
       "\n",
       "    .dataframe tbody tr th {\n",
       "        vertical-align: top;\n",
       "    }\n",
       "\n",
       "    .dataframe thead th {\n",
       "        text-align: right;\n",
       "    }\n",
       "</style>\n",
       "<table border=\"1\" class=\"dataframe\">\n",
       "  <thead>\n",
       "    <tr style=\"text-align: right;\">\n",
       "      <th></th>\n",
       "      <th>Model</th>\n",
       "      <th>Accuracy</th>\n",
       "      <th>Precision</th>\n",
       "      <th>Recall</th>\n",
       "      <th>F1 Score</th>\n",
       "    </tr>\n",
       "  </thead>\n",
       "  <tbody>\n",
       "    <tr>\n",
       "      <th>0</th>\n",
       "      <td>FNN</td>\n",
       "      <td>0.8912</td>\n",
       "      <td>0.8870</td>\n",
       "      <td>0.8966</td>\n",
       "      <td>0.8918</td>\n",
       "    </tr>\n",
       "    <tr>\n",
       "      <th>1</th>\n",
       "      <td>RNN</td>\n",
       "      <td>0.5135</td>\n",
       "      <td>0.5125</td>\n",
       "      <td>0.5504</td>\n",
       "      <td>0.5308</td>\n",
       "    </tr>\n",
       "    <tr>\n",
       "      <th>2</th>\n",
       "      <td>GRU</td>\n",
       "      <td>0.8577</td>\n",
       "      <td>0.8488</td>\n",
       "      <td>0.8705</td>\n",
       "      <td>0.8595</td>\n",
       "    </tr>\n",
       "    <tr>\n",
       "      <th>3</th>\n",
       "      <td>LSTM</td>\n",
       "      <td>0.8260</td>\n",
       "      <td>0.8432</td>\n",
       "      <td>0.8012</td>\n",
       "      <td>0.8217</td>\n",
       "    </tr>\n",
       "  </tbody>\n",
       "</table>\n",
       "</div>"
      ],
      "text/plain": [
       "  Model  Accuracy  Precision  Recall  F1 Score\n",
       "0   FNN    0.8912     0.8870  0.8966    0.8918\n",
       "1   RNN    0.5135     0.5125  0.5504    0.5308\n",
       "2   GRU    0.8577     0.8488  0.8705    0.8595\n",
       "3  LSTM    0.8260     0.8432  0.8012    0.8217"
      ]
     },
     "execution_count": 47,
     "metadata": {},
     "output_type": "execute_result"
    }
   ],
   "source": [
    "results = {\n",
    "    \"Model\": [\"FNN\", \"RNN\", \"GRU\", \"LSTM\"],\n",
    "    \"Accuracy\": [accuracy_fnn, accuracy_rnn, accuracy_gru, accuracy_lstm],\n",
    "    \"Precision\": [precision_fnn, precision_rnn, precision_gru, precision_lstm],\n",
    "    \"Recall\": [recall_fnn, recall_rnn, recall_gru, recall_lstm],\n",
    "    \"F1 Score\": [f1_fnn, f1_rnn, f1_gru, f1_lstm]\n",
    "}\n",
    "\n",
    "metrics_df = pd.DataFrame(results)\n",
    "metrics_df.round(4)"
   ]
  }
 ],
 "metadata": {
  "kernelspec": {
   "display_name": "DataScienceClass",
   "language": "python",
   "name": "python3"
  },
  "language_info": {
   "codemirror_mode": {
    "name": "ipython",
    "version": 3
   },
   "file_extension": ".py",
   "mimetype": "text/x-python",
   "name": "python",
   "nbconvert_exporter": "python",
   "pygments_lexer": "ipython3",
   "version": "3.12.7"
  }
 },
 "nbformat": 4,
 "nbformat_minor": 5
}
