{
 "cells": [
  {
   "cell_type": "code",
   "execution_count": null,
   "id": "cd3411c5",
   "metadata": {},
   "outputs": [],
   "source": [
    "import os\n",
    "import re\n",
    "from collections import Counter\n",
    "\n",
    "import numpy as np\n",
    "import pandas as pd\n",
    "import matplotlib.pyplot as plt\n",
    "\n",
    "from nltk.tokenize import word_tokenize\n",
    "from nltk.corpus import stopwords\n",
    "\n",
    "import torch\n",
    "from torch import nn\n",
    "import torch.optim as optim\n",
    "from torch.utils.data import  Dataset, DataLoader\n",
    "from torchvision.transforms import ToTensor\n",
    "from torchmetrics import ConfusionMatrix\n",
    "from mlxtend.plotting import plot_confusion_matrix"
   ]
  },
  {
   "cell_type": "markdown",
   "id": "81822b40",
   "metadata": {},
   "source": [
    "## Reading data"
   ]
  },
  {
   "cell_type": "code",
   "execution_count": 18,
   "id": "a7a50ece",
   "metadata": {},
   "outputs": [
    {
     "data": {
      "text/html": [
       "<div>\n",
       "<style scoped>\n",
       "    .dataframe tbody tr th:only-of-type {\n",
       "        vertical-align: middle;\n",
       "    }\n",
       "\n",
       "    .dataframe tbody tr th {\n",
       "        vertical-align: top;\n",
       "    }\n",
       "\n",
       "    .dataframe thead th {\n",
       "        text-align: right;\n",
       "    }\n",
       "</style>\n",
       "<table border=\"1\" class=\"dataframe\">\n",
       "  <thead>\n",
       "    <tr style=\"text-align: right;\">\n",
       "      <th></th>\n",
       "      <th>review</th>\n",
       "      <th>sentiment</th>\n",
       "      <th>split</th>\n",
       "    </tr>\n",
       "  </thead>\n",
       "  <tbody>\n",
       "    <tr>\n",
       "      <th>0</th>\n",
       "      <td>Bromwell High is a cartoon comedy. It ran at t...</td>\n",
       "      <td>1</td>\n",
       "      <td>train</td>\n",
       "    </tr>\n",
       "    <tr>\n",
       "      <th>1</th>\n",
       "      <td>Homelessness (or Houselessness as George Carli...</td>\n",
       "      <td>1</td>\n",
       "      <td>train</td>\n",
       "    </tr>\n",
       "    <tr>\n",
       "      <th>2</th>\n",
       "      <td>Brilliant over-acting by Lesley Ann Warren. Be...</td>\n",
       "      <td>1</td>\n",
       "      <td>train</td>\n",
       "    </tr>\n",
       "    <tr>\n",
       "      <th>3</th>\n",
       "      <td>This is easily the most underrated film inn th...</td>\n",
       "      <td>1</td>\n",
       "      <td>train</td>\n",
       "    </tr>\n",
       "    <tr>\n",
       "      <th>4</th>\n",
       "      <td>This is not the typical Mel Brooks film. It wa...</td>\n",
       "      <td>1</td>\n",
       "      <td>train</td>\n",
       "    </tr>\n",
       "    <tr>\n",
       "      <th>...</th>\n",
       "      <td>...</td>\n",
       "      <td>...</td>\n",
       "      <td>...</td>\n",
       "    </tr>\n",
       "    <tr>\n",
       "      <th>49995</th>\n",
       "      <td>I occasionally let my kids watch this garbage ...</td>\n",
       "      <td>0</td>\n",
       "      <td>test</td>\n",
       "    </tr>\n",
       "    <tr>\n",
       "      <th>49996</th>\n",
       "      <td>When all we have anymore is pretty much realit...</td>\n",
       "      <td>0</td>\n",
       "      <td>test</td>\n",
       "    </tr>\n",
       "    <tr>\n",
       "      <th>49997</th>\n",
       "      <td>The basic genre is a thriller intercut with an...</td>\n",
       "      <td>0</td>\n",
       "      <td>test</td>\n",
       "    </tr>\n",
       "    <tr>\n",
       "      <th>49998</th>\n",
       "      <td>Four things intrigued me as to this film - fir...</td>\n",
       "      <td>0</td>\n",
       "      <td>test</td>\n",
       "    </tr>\n",
       "    <tr>\n",
       "      <th>49999</th>\n",
       "      <td>David Bryce's comments nearby are exceptionall...</td>\n",
       "      <td>0</td>\n",
       "      <td>test</td>\n",
       "    </tr>\n",
       "  </tbody>\n",
       "</table>\n",
       "<p>50000 rows × 3 columns</p>\n",
       "</div>"
      ],
      "text/plain": [
       "                                                  review  sentiment  split\n",
       "0      Bromwell High is a cartoon comedy. It ran at t...          1  train\n",
       "1      Homelessness (or Houselessness as George Carli...          1  train\n",
       "2      Brilliant over-acting by Lesley Ann Warren. Be...          1  train\n",
       "3      This is easily the most underrated film inn th...          1  train\n",
       "4      This is not the typical Mel Brooks film. It wa...          1  train\n",
       "...                                                  ...        ...    ...\n",
       "49995  I occasionally let my kids watch this garbage ...          0   test\n",
       "49996  When all we have anymore is pretty much realit...          0   test\n",
       "49997  The basic genre is a thriller intercut with an...          0   test\n",
       "49998  Four things intrigued me as to this film - fir...          0   test\n",
       "49999  David Bryce's comments nearby are exceptionall...          0   test\n",
       "\n",
       "[50000 rows x 3 columns]"
      ]
     },
     "execution_count": 18,
     "metadata": {},
     "output_type": "execute_result"
    }
   ],
   "source": [
    "def load_imdb_data(data_dir):\n",
    "    data = {'review': [], 'sentiment': [], 'split': []}\n",
    "    for split in ['train', 'test']:\n",
    "        for sentiment in ['pos', 'neg']:\n",
    "            path = os.path.join(data_dir, split, sentiment)\n",
    "            for fname in os.listdir(path):\n",
    "                if fname.endswith(\".txt\"):\n",
    "                    with open(os.path.join(path, fname), encoding='utf-8') as f:\n",
    "                        data['review'].append(f.read())\n",
    "                        data['sentiment'].append(1 if sentiment == 'pos' else 0)\n",
    "                        data['split'].append(split)\n",
    "    return pd.DataFrame(data)\n",
    "\n",
    "# Read all data into dataframe\n",
    "imdb_df = load_imdb_data('aclImdb')\n",
    "\n",
    "# Save to csv for future usage\n",
    "# imdb_df.to_csv(\"imdb_raws.csv\", index=False)\n",
    "\n",
    "imdb_df"
   ]
  },
  {
   "cell_type": "code",
   "execution_count": 32,
   "id": "e15e2223",
   "metadata": {},
   "outputs": [
    {
     "data": {
      "text/html": [
       "<div>\n",
       "<style scoped>\n",
       "    .dataframe tbody tr th:only-of-type {\n",
       "        vertical-align: middle;\n",
       "    }\n",
       "\n",
       "    .dataframe tbody tr th {\n",
       "        vertical-align: top;\n",
       "    }\n",
       "\n",
       "    .dataframe thead th {\n",
       "        text-align: right;\n",
       "    }\n",
       "</style>\n",
       "<table border=\"1\" class=\"dataframe\">\n",
       "  <thead>\n",
       "    <tr style=\"text-align: right;\">\n",
       "      <th></th>\n",
       "      <th>review</th>\n",
       "      <th>sentiment</th>\n",
       "      <th>split</th>\n",
       "    </tr>\n",
       "  </thead>\n",
       "  <tbody>\n",
       "    <tr>\n",
       "      <th>0</th>\n",
       "      <td>Bromwell High is a cartoon comedy. It ran at t...</td>\n",
       "      <td>1</td>\n",
       "      <td>train</td>\n",
       "    </tr>\n",
       "    <tr>\n",
       "      <th>1</th>\n",
       "      <td>Homelessness (or Houselessness as George Carli...</td>\n",
       "      <td>1</td>\n",
       "      <td>train</td>\n",
       "    </tr>\n",
       "    <tr>\n",
       "      <th>2</th>\n",
       "      <td>Brilliant over-acting by Lesley Ann Warren. Be...</td>\n",
       "      <td>1</td>\n",
       "      <td>train</td>\n",
       "    </tr>\n",
       "    <tr>\n",
       "      <th>3</th>\n",
       "      <td>This is easily the most underrated film inn th...</td>\n",
       "      <td>1</td>\n",
       "      <td>train</td>\n",
       "    </tr>\n",
       "    <tr>\n",
       "      <th>4</th>\n",
       "      <td>This is not the typical Mel Brooks film. It wa...</td>\n",
       "      <td>1</td>\n",
       "      <td>train</td>\n",
       "    </tr>\n",
       "    <tr>\n",
       "      <th>...</th>\n",
       "      <td>...</td>\n",
       "      <td>...</td>\n",
       "      <td>...</td>\n",
       "    </tr>\n",
       "    <tr>\n",
       "      <th>49995</th>\n",
       "      <td>I occasionally let my kids watch this garbage ...</td>\n",
       "      <td>0</td>\n",
       "      <td>test</td>\n",
       "    </tr>\n",
       "    <tr>\n",
       "      <th>49996</th>\n",
       "      <td>When all we have anymore is pretty much realit...</td>\n",
       "      <td>0</td>\n",
       "      <td>test</td>\n",
       "    </tr>\n",
       "    <tr>\n",
       "      <th>49997</th>\n",
       "      <td>The basic genre is a thriller intercut with an...</td>\n",
       "      <td>0</td>\n",
       "      <td>test</td>\n",
       "    </tr>\n",
       "    <tr>\n",
       "      <th>49998</th>\n",
       "      <td>Four things intrigued me as to this film - fir...</td>\n",
       "      <td>0</td>\n",
       "      <td>test</td>\n",
       "    </tr>\n",
       "    <tr>\n",
       "      <th>49999</th>\n",
       "      <td>David Bryce's comments nearby are exceptionall...</td>\n",
       "      <td>0</td>\n",
       "      <td>test</td>\n",
       "    </tr>\n",
       "  </tbody>\n",
       "</table>\n",
       "<p>50000 rows × 3 columns</p>\n",
       "</div>"
      ],
      "text/plain": [
       "                                                  review  sentiment  split\n",
       "0      Bromwell High is a cartoon comedy. It ran at t...          1  train\n",
       "1      Homelessness (or Houselessness as George Carli...          1  train\n",
       "2      Brilliant over-acting by Lesley Ann Warren. Be...          1  train\n",
       "3      This is easily the most underrated film inn th...          1  train\n",
       "4      This is not the typical Mel Brooks film. It wa...          1  train\n",
       "...                                                  ...        ...    ...\n",
       "49995  I occasionally let my kids watch this garbage ...          0   test\n",
       "49996  When all we have anymore is pretty much realit...          0   test\n",
       "49997  The basic genre is a thriller intercut with an...          0   test\n",
       "49998  Four things intrigued me as to this film - fir...          0   test\n",
       "49999  David Bryce's comments nearby are exceptionall...          0   test\n",
       "\n",
       "[50000 rows x 3 columns]"
      ]
     },
     "execution_count": 32,
     "metadata": {},
     "output_type": "execute_result"
    }
   ],
   "source": [
    "imdb_df = pd.read_csv('imdb_raws.csv')\n",
    "imdb_df"
   ]
  },
  {
   "cell_type": "code",
   "execution_count": 33,
   "id": "68959ad6",
   "metadata": {},
   "outputs": [
    {
     "data": {
      "text/plain": [
       "(25000, 25000)"
      ]
     },
     "execution_count": 33,
     "metadata": {},
     "output_type": "execute_result"
    }
   ],
   "source": [
    "imdb_df_train = imdb_df[imdb_df['split'] == 'train'].copy()\n",
    "imdb_df_test = imdb_df[imdb_df['split'] == 'test'].copy()\n",
    "len(imdb_df_train), len(imdb_df_test)"
   ]
  },
  {
   "cell_type": "markdown",
   "id": "732a488f",
   "metadata": {},
   "source": [
    "## Data Preprocessing"
   ]
  },
  {
   "cell_type": "code",
   "execution_count": 44,
   "id": "aadcab32",
   "metadata": {},
   "outputs": [],
   "source": [
    "stop_words = set(stopwords.words('english'))\n",
    "\n",
    "def clean_and_tokenize(text, remove_stopwords=False):\n",
    "  # Replace HTML tags\n",
    "  text = text.replace('<br />', ' ').replace('<br></br>', ' ')\n",
    "    \n",
    "  # Lowercase\n",
    "  text = text.lower()\n",
    "    \n",
    "  # Remove non-alphabetic characters\n",
    "  text = re.sub(r\"[^a-zA-Z]\", ' ', text)\n",
    "    \n",
    "  # Tokenize\n",
    "  tokens = word_tokenize(text)\n",
    "    \n",
    "  # Remove stopwords\n",
    "  if remove_stopwords:\n",
    "    tokens = [t for t in tokens if t not in stop_words]\n",
    "    \n",
    "  return tokens"
   ]
  },
  {
   "cell_type": "code",
   "execution_count": 45,
   "id": "4583f6e1",
   "metadata": {},
   "outputs": [
    {
     "data": {
      "text/html": [
       "<div>\n",
       "<style scoped>\n",
       "    .dataframe tbody tr th:only-of-type {\n",
       "        vertical-align: middle;\n",
       "    }\n",
       "\n",
       "    .dataframe tbody tr th {\n",
       "        vertical-align: top;\n",
       "    }\n",
       "\n",
       "    .dataframe thead th {\n",
       "        text-align: right;\n",
       "    }\n",
       "</style>\n",
       "<table border=\"1\" class=\"dataframe\">\n",
       "  <thead>\n",
       "    <tr style=\"text-align: right;\">\n",
       "      <th></th>\n",
       "      <th>review</th>\n",
       "      <th>sentiment</th>\n",
       "      <th>split</th>\n",
       "      <th>tokens</th>\n",
       "    </tr>\n",
       "  </thead>\n",
       "  <tbody>\n",
       "    <tr>\n",
       "      <th>0</th>\n",
       "      <td>Bromwell High is a cartoon comedy. It ran at t...</td>\n",
       "      <td>1</td>\n",
       "      <td>train</td>\n",
       "      <td>[bromwell, high, cartoon, comedy, ran, time, p...</td>\n",
       "    </tr>\n",
       "    <tr>\n",
       "      <th>1</th>\n",
       "      <td>Homelessness (or Houselessness as George Carli...</td>\n",
       "      <td>1</td>\n",
       "      <td>train</td>\n",
       "      <td>[homelessness, houselessness, george, carlin, ...</td>\n",
       "    </tr>\n",
       "    <tr>\n",
       "      <th>2</th>\n",
       "      <td>Brilliant over-acting by Lesley Ann Warren. Be...</td>\n",
       "      <td>1</td>\n",
       "      <td>train</td>\n",
       "      <td>[brilliant, acting, lesley, ann, warren, best,...</td>\n",
       "    </tr>\n",
       "    <tr>\n",
       "      <th>3</th>\n",
       "      <td>This is easily the most underrated film inn th...</td>\n",
       "      <td>1</td>\n",
       "      <td>train</td>\n",
       "      <td>[easily, underrated, film, inn, brooks, cannon...</td>\n",
       "    </tr>\n",
       "    <tr>\n",
       "      <th>4</th>\n",
       "      <td>This is not the typical Mel Brooks film. It wa...</td>\n",
       "      <td>1</td>\n",
       "      <td>train</td>\n",
       "      <td>[typical, mel, brooks, film, much, less, slaps...</td>\n",
       "    </tr>\n",
       "    <tr>\n",
       "      <th>...</th>\n",
       "      <td>...</td>\n",
       "      <td>...</td>\n",
       "      <td>...</td>\n",
       "      <td>...</td>\n",
       "    </tr>\n",
       "    <tr>\n",
       "      <th>24995</th>\n",
       "      <td>Towards the end of the movie, I felt it was to...</td>\n",
       "      <td>0</td>\n",
       "      <td>train</td>\n",
       "      <td>[towards, end, movie, felt, technical, felt, l...</td>\n",
       "    </tr>\n",
       "    <tr>\n",
       "      <th>24996</th>\n",
       "      <td>This is the kind of movie that my enemies cont...</td>\n",
       "      <td>0</td>\n",
       "      <td>train</td>\n",
       "      <td>[kind, movie, enemies, content, watch, time, b...</td>\n",
       "    </tr>\n",
       "    <tr>\n",
       "      <th>24997</th>\n",
       "      <td>I saw 'Descent' last night at the Stockholm Fi...</td>\n",
       "      <td>0</td>\n",
       "      <td>train</td>\n",
       "      <td>[saw, descent, last, night, stockholm, film, f...</td>\n",
       "    </tr>\n",
       "    <tr>\n",
       "      <th>24998</th>\n",
       "      <td>Some films that you pick up for a pound turn o...</td>\n",
       "      <td>0</td>\n",
       "      <td>train</td>\n",
       "      <td>[films, pick, pound, turn, rather, good, rd, c...</td>\n",
       "    </tr>\n",
       "    <tr>\n",
       "      <th>24999</th>\n",
       "      <td>This is one of the dumbest films, I've ever se...</td>\n",
       "      <td>0</td>\n",
       "      <td>train</td>\n",
       "      <td>[one, dumbest, films, ever, seen, rips, nearly...</td>\n",
       "    </tr>\n",
       "  </tbody>\n",
       "</table>\n",
       "<p>25000 rows × 4 columns</p>\n",
       "</div>"
      ],
      "text/plain": [
       "                                                  review  sentiment  split  \\\n",
       "0      Bromwell High is a cartoon comedy. It ran at t...          1  train   \n",
       "1      Homelessness (or Houselessness as George Carli...          1  train   \n",
       "2      Brilliant over-acting by Lesley Ann Warren. Be...          1  train   \n",
       "3      This is easily the most underrated film inn th...          1  train   \n",
       "4      This is not the typical Mel Brooks film. It wa...          1  train   \n",
       "...                                                  ...        ...    ...   \n",
       "24995  Towards the end of the movie, I felt it was to...          0  train   \n",
       "24996  This is the kind of movie that my enemies cont...          0  train   \n",
       "24997  I saw 'Descent' last night at the Stockholm Fi...          0  train   \n",
       "24998  Some films that you pick up for a pound turn o...          0  train   \n",
       "24999  This is one of the dumbest films, I've ever se...          0  train   \n",
       "\n",
       "                                                  tokens  \n",
       "0      [bromwell, high, cartoon, comedy, ran, time, p...  \n",
       "1      [homelessness, houselessness, george, carlin, ...  \n",
       "2      [brilliant, acting, lesley, ann, warren, best,...  \n",
       "3      [easily, underrated, film, inn, brooks, cannon...  \n",
       "4      [typical, mel, brooks, film, much, less, slaps...  \n",
       "...                                                  ...  \n",
       "24995  [towards, end, movie, felt, technical, felt, l...  \n",
       "24996  [kind, movie, enemies, content, watch, time, b...  \n",
       "24997  [saw, descent, last, night, stockholm, film, f...  \n",
       "24998  [films, pick, pound, turn, rather, good, rd, c...  \n",
       "24999  [one, dumbest, films, ever, seen, rips, nearly...  \n",
       "\n",
       "[25000 rows x 4 columns]"
      ]
     },
     "execution_count": 45,
     "metadata": {},
     "output_type": "execute_result"
    }
   ],
   "source": [
    "# Apply to DataFrame to add new column\n",
    "imdb_df_train['tokens'] = imdb_df_train['review'].apply(lambda x: clean_and_tokenize(x, remove_stopwords=True))\n",
    "imdb_df_train"
   ]
  },
  {
   "cell_type": "code",
   "execution_count": 61,
   "id": "521d3ff0",
   "metadata": {},
   "outputs": [
    {
     "data": {
      "image/png": "[encoded data removed]",
      "text/plain": [
       "<Figure size 640x480 with 1 Axes>"
      ]
     },
     "metadata": {},
     "output_type": "display_data"
    }
   ],
   "source": [
    "# Plot histogram to see review length distribution\n",
    "review_length_train = imdb_df_train['tokens'].apply(lambda x: len(x))\n",
    "\n",
    "bin_width = 50\n",
    "bins_train = np.arange(min(review_length_train), max(review_length_train) + bin_width, bin_width)\n",
    "\n",
    "plt.hist(review_length_train, bins=bins_train)\n",
    "plt.xlim(0, 600)\n",
    "plt.show()"
   ]
  },
  {
   "cell_type": "code",
   "execution_count": 72,
   "id": "10557701",
   "metadata": {},
   "outputs": [
    {
     "data": {
      "text/plain": [
       "count    25000.000000\n",
       "mean       119.512800\n",
       "std         90.566264\n",
       "min          4.000000\n",
       "25%         63.000000\n",
       "50%         89.000000\n",
       "75%        146.000000\n",
       "max       1422.000000\n",
       "Name: tokens, dtype: float64"
      ]
     },
     "execution_count": 72,
     "metadata": {},
     "output_type": "execute_result"
    }
   ],
   "source": [
    "review_length_train.describe()"
   ]
  },
  {
   "cell_type": "code",
   "execution_count": 46,
   "id": "bec101ae",
   "metadata": {},
   "outputs": [
    {
     "data": {
      "text/html": [
       "<div>\n",
       "<style scoped>\n",
       "    .dataframe tbody tr th:only-of-type {\n",
       "        vertical-align: middle;\n",
       "    }\n",
       "\n",
       "    .dataframe tbody tr th {\n",
       "        vertical-align: top;\n",
       "    }\n",
       "\n",
       "    .dataframe thead th {\n",
       "        text-align: right;\n",
       "    }\n",
       "</style>\n",
       "<table border=\"1\" class=\"dataframe\">\n",
       "  <thead>\n",
       "    <tr style=\"text-align: right;\">\n",
       "      <th></th>\n",
       "      <th>review</th>\n",
       "      <th>sentiment</th>\n",
       "      <th>split</th>\n",
       "      <th>tokens</th>\n",
       "    </tr>\n",
       "  </thead>\n",
       "  <tbody>\n",
       "    <tr>\n",
       "      <th>25000</th>\n",
       "      <td>I went and saw this movie last night after bei...</td>\n",
       "      <td>1</td>\n",
       "      <td>test</td>\n",
       "      <td>[went, saw, movie, last, night, coaxed, friend...</td>\n",
       "    </tr>\n",
       "    <tr>\n",
       "      <th>25001</th>\n",
       "      <td>Actor turned director Bill Paxton follows up h...</td>\n",
       "      <td>1</td>\n",
       "      <td>test</td>\n",
       "      <td>[actor, turned, director, bill, paxton, follow...</td>\n",
       "    </tr>\n",
       "    <tr>\n",
       "      <th>25002</th>\n",
       "      <td>As a recreational golfer with some knowledge o...</td>\n",
       "      <td>1</td>\n",
       "      <td>test</td>\n",
       "      <td>[recreational, golfer, knowledge, sport, histo...</td>\n",
       "    </tr>\n",
       "    <tr>\n",
       "      <th>25003</th>\n",
       "      <td>I saw this film in a sneak preview, and it is ...</td>\n",
       "      <td>1</td>\n",
       "      <td>test</td>\n",
       "      <td>[saw, film, sneak, preview, delightful, cinema...</td>\n",
       "    </tr>\n",
       "    <tr>\n",
       "      <th>25004</th>\n",
       "      <td>Bill Paxton has taken the true story of the 19...</td>\n",
       "      <td>1</td>\n",
       "      <td>test</td>\n",
       "      <td>[bill, paxton, taken, true, story, us, golf, o...</td>\n",
       "    </tr>\n",
       "    <tr>\n",
       "      <th>...</th>\n",
       "      <td>...</td>\n",
       "      <td>...</td>\n",
       "      <td>...</td>\n",
       "      <td>...</td>\n",
       "    </tr>\n",
       "    <tr>\n",
       "      <th>49995</th>\n",
       "      <td>I occasionally let my kids watch this garbage ...</td>\n",
       "      <td>0</td>\n",
       "      <td>test</td>\n",
       "      <td>[occasionally, let, kids, watch, garbage, unde...</td>\n",
       "    </tr>\n",
       "    <tr>\n",
       "      <th>49996</th>\n",
       "      <td>When all we have anymore is pretty much realit...</td>\n",
       "      <td>0</td>\n",
       "      <td>test</td>\n",
       "      <td>[anymore, pretty, much, reality, tv, shows, pe...</td>\n",
       "    </tr>\n",
       "    <tr>\n",
       "      <th>49997</th>\n",
       "      <td>The basic genre is a thriller intercut with an...</td>\n",
       "      <td>0</td>\n",
       "      <td>test</td>\n",
       "      <td>[basic, genre, thriller, intercut, uncomfortab...</td>\n",
       "    </tr>\n",
       "    <tr>\n",
       "      <th>49998</th>\n",
       "      <td>Four things intrigued me as to this film - fir...</td>\n",
       "      <td>0</td>\n",
       "      <td>test</td>\n",
       "      <td>[four, things, intrigued, film, firstly, stars...</td>\n",
       "    </tr>\n",
       "    <tr>\n",
       "      <th>49999</th>\n",
       "      <td>David Bryce's comments nearby are exceptionall...</td>\n",
       "      <td>0</td>\n",
       "      <td>test</td>\n",
       "      <td>[david, bryce, comments, nearby, exceptionally...</td>\n",
       "    </tr>\n",
       "  </tbody>\n",
       "</table>\n",
       "<p>25000 rows × 4 columns</p>\n",
       "</div>"
      ],
      "text/plain": [
       "                                                  review  sentiment split  \\\n",
       "25000  I went and saw this movie last night after bei...          1  test   \n",
       "25001  Actor turned director Bill Paxton follows up h...          1  test   \n",
       "25002  As a recreational golfer with some knowledge o...          1  test   \n",
       "25003  I saw this film in a sneak preview, and it is ...          1  test   \n",
       "25004  Bill Paxton has taken the true story of the 19...          1  test   \n",
       "...                                                  ...        ...   ...   \n",
       "49995  I occasionally let my kids watch this garbage ...          0  test   \n",
       "49996  When all we have anymore is pretty much realit...          0  test   \n",
       "49997  The basic genre is a thriller intercut with an...          0  test   \n",
       "49998  Four things intrigued me as to this film - fir...          0  test   \n",
       "49999  David Bryce's comments nearby are exceptionall...          0  test   \n",
       "\n",
       "                                                  tokens  \n",
       "25000  [went, saw, movie, last, night, coaxed, friend...  \n",
       "25001  [actor, turned, director, bill, paxton, follow...  \n",
       "25002  [recreational, golfer, knowledge, sport, histo...  \n",
       "25003  [saw, film, sneak, preview, delightful, cinema...  \n",
       "25004  [bill, paxton, taken, true, story, us, golf, o...  \n",
       "...                                                  ...  \n",
       "49995  [occasionally, let, kids, watch, garbage, unde...  \n",
       "49996  [anymore, pretty, much, reality, tv, shows, pe...  \n",
       "49997  [basic, genre, thriller, intercut, uncomfortab...  \n",
       "49998  [four, things, intrigued, film, firstly, stars...  \n",
       "49999  [david, bryce, comments, nearby, exceptionally...  \n",
       "\n",
       "[25000 rows x 4 columns]"
      ]
     },
     "execution_count": 46,
     "metadata": {},
     "output_type": "execute_result"
    }
   ],
   "source": [
    "# Apply to DataFrame to add new column\n",
    "imdb_df_test['tokens'] = imdb_df_test['review'].apply(lambda x: clean_and_tokenize(x, remove_stopwords=True))\n",
    "imdb_df_test"
   ]
  },
  {
   "cell_type": "code",
   "execution_count": 77,
   "id": "03aa0a5a",
   "metadata": {},
   "outputs": [
    {
     "data": {
      "image/png": "[encoded data removed]",
      "text/plain": [
       "<Figure size 640x480 with 1 Axes>"
      ]
     },
     "metadata": {},
     "output_type": "display_data"
    }
   ],
   "source": [
    "# Plot histogram to see review length distribution\n",
    "review_length_test = imdb_df_test['tokens'].apply(lambda x: len(x))\n",
    "\n",
    "bin_width = 50\n",
    "bins_test = np.arange(min(review_length_test), max(review_length_test) + bin_width, bin_width)\n",
    "\n",
    "plt.hist(review_length_test, bins=bins_test)\n",
    "plt.xlim(0, 600)\n",
    "plt.show()"
   ]
  },
  {
   "cell_type": "code",
   "execution_count": 73,
   "id": "c4a1b733",
   "metadata": {},
   "outputs": [
    {
     "data": {
      "text/plain": [
       "count    25000.000000\n",
       "mean       116.752320\n",
       "std         88.181541\n",
       "min          3.000000\n",
       "25%         63.000000\n",
       "50%         87.000000\n",
       "75%        142.000000\n",
       "max       1154.000000\n",
       "Name: tokens, dtype: float64"
      ]
     },
     "execution_count": 73,
     "metadata": {},
     "output_type": "execute_result"
    }
   ],
   "source": [
    "review_length_test.describe()"
   ]
  },
  {
   "cell_type": "code",
   "execution_count": 74,
   "id": "9e4f18f1",
   "metadata": {},
   "outputs": [
    {
     "data": {
      "image/png": "[encoded data removed]",
      "text/plain": [
       "<Figure size 640x480 with 1 Axes>"
      ]
     },
     "metadata": {},
     "output_type": "display_data"
    }
   ],
   "source": [
    "# Plot both histogram to see their difference\n",
    "plt.hist(review_length_train, bins=bins_train, label=\"Train\")\n",
    "plt.hist(review_length_test, bins=bins_test, alpha=0.5, label=\"Test\")\n",
    "plt.xlim(0, 600)\n",
    "plt.legend()\n",
    "plt.show()"
   ]
  },
  {
   "cell_type": "markdown",
   "id": "7ab63bf3",
   "metadata": {},
   "source": [
    "## Vocabulary"
   ]
  },
  {
   "cell_type": "code",
   "execution_count": 548,
   "id": "59bfded7",
   "metadata": {},
   "outputs": [],
   "source": [
    "class Vocabulary:\n",
    "  def __init__(self, token_to_index={}, pad_token='<pad>', unk_token='<unk>'):\n",
    "    self.token_to_index = token_to_index\n",
    "\n",
    "    if len(self.token_to_index) == 0:\n",
    "      self.token_to_index[pad_token] = 0\n",
    "      self.token_to_index[unk_token] = 1\n",
    "\n",
    "    self.index_to_token = {index: token for token, index in self.token_to_index.items()}\n",
    "\n",
    "    self.pad_token = pad_token\n",
    "    self.pad_index = self.token_to_index[self.pad_token]\n",
    "\n",
    "    self.unk_token = unk_token\n",
    "    self.unk_index = self.token_to_index[self.unk_token]\n",
    "  \n",
    "  def __len__(self):\n",
    "    return len(self.token_to_index)\n",
    "\n",
    "  def add_token(self, token):\n",
    "    if token in self.token_to_index:\n",
    "      index = self.token_to_index[token]\n",
    "    else:\n",
    "      index = len(self.token_to_index)\n",
    "      self.token_to_index[token] = index\n",
    "      self.index_to_token[index] = token\n",
    "    return index\n",
    "\n",
    "  def lookup_token(self, token):\n",
    "    return self.token_to_index.get(token, self.unk_index)\n",
    "  \n",
    "  def lookup_index(self, index):\n",
    "    if index not in self.index_to_token:\n",
    "      raise KeyError(f\"the index {index} is not in the Vocabulary\")\n",
    "    return self.index_to_token[index]\n",
    "\n",
    "  # Build vocab from tokenized data filtered by minimun frequency of each word\n",
    "  @classmethod\n",
    "  def build_vocab_with_min_freq(cls, token_lists, min_freq=25):\n",
    "    counter = Counter()\n",
    "    for tokens in token_lists:\n",
    "      counter.update(tokens)\n",
    "    \n",
    "    # '<pad>' is for padding review to have the same length\n",
    "    # '<unk>' is for unknown word that are removed or not in train data\n",
    "    vocab = {'<pad>': 0, '<unk>': 1}\n",
    "    \n",
    "    for word, freq in counter.items():\n",
    "      if freq >= min_freq:\n",
    "        vocab[word] = len(vocab)\n",
    "    \n",
    "    return cls(vocab)\n",
    "\n",
    "  # Build vocab from tokenized data filtered by maximun words in vocab\n",
    "  @classmethod\n",
    "  def build_vocab_with_max_words(cls, token_lists, max_words=8000):\n",
    "    counter = Counter()\n",
    "    for tokens in token_lists:\n",
    "      counter.update(tokens)\n",
    "    \n",
    "    # '<pad>' is for padding review to have the same length\n",
    "    # '<unk>' is for unknown word that are removed or not in train data\n",
    "    vocab = {'<pad>': 0, '<unk>': 1}\n",
    "  \n",
    "    most_common_words = counter.most_common(max_words - 2)\n",
    "    for word, _ in most_common_words:\n",
    "      vocab[word] = len(vocab)\n",
    "\n",
    "    return cls(vocab)"
   ]
  },
  {
   "cell_type": "code",
   "execution_count": 549,
   "id": "956ed0fb",
   "metadata": {},
   "outputs": [
    {
     "data": {
      "text/plain": [
       "8000"
      ]
     },
     "execution_count": 549,
     "metadata": {},
     "output_type": "execute_result"
    }
   ],
   "source": [
    "# Build vocabulary from train data\n",
    "review_vocab = Vocabulary.build_vocab_with_max_words(imdb_df_train['tokens'])\n",
    "len(review_vocab)"
   ]
  },
  {
   "cell_type": "markdown",
   "id": "9fe98f7a",
   "metadata": {},
   "source": [
    "## Vectorizer"
   ]
  },
  {
   "cell_type": "code",
   "execution_count": null,
   "id": "0f596ced",
   "metadata": {},
   "outputs": [],
   "source": [
    "class Vectorizer:\n",
    "  def __init__(self, vocab: Vocabulary):\n",
    "    self.vocab = vocab\n",
    "    self.vocab_size = len(vocab)\n",
    "\n",
    "  # Turn token into index for embedding\n",
    "  def index_vectorize(self, token_list):\n",
    "    indices = np.zeros(len(token_list), dtype=np.float32)\n",
    "    for i, token in enumerate(token_list):\n",
    "      index = self.vocab.lookup_token(token)\n",
    "      indices[i] = index\n",
    "    return indices\n",
    "\n",
    "  # One-Hot encoder for Feedforward Neural Network\n",
    "  def onehot_vectorize(self, token_list):\n",
    "    onehot = np.zeros(self.vocab_size, dtype=np.float32)\n",
    "    for token in token_list:\n",
    "      index = self.vocab.lookup_token(token)\n",
    "      onehot[index] += 1.0\n",
    "    return onehot"
   ]
  },
  {
   "cell_type": "code",
   "execution_count": 598,
   "id": "7b619739",
   "metadata": {},
   "outputs": [],
   "source": [
    "review_vectorizer = Vectorizer(review_vocab)"
   ]
  },
  {
   "cell_type": "code",
   "execution_count": null,
   "id": "de6161c1",
   "metadata": {},
   "outputs": [
    {
     "data": {
      "text/plain": [
       "array([1.000e+00, 1.940e+02, 9.150e+02, 1.020e+02, 1.994e+03, 7.000e+00,\n",
       "       5.643e+03, 2.640e+02, 3.400e+01, 5.050e+03, 5.900e+01, 4.829e+03,\n",
       "       5.707e+03, 3.540e+02, 1.480e+02, 1.000e+00, 1.940e+02, 1.839e+03,\n",
       "       1.400e+01, 2.254e+03, 4.850e+02, 5.050e+03, 1.000e+00, 1.844e+03,\n",
       "       1.000e+00, 5.644e+03, 1.363e+03, 1.200e+01, 9.900e+01, 1.066e+03,\n",
       "       5.050e+03, 1.000e+00, 1.000e+00, 1.150e+02, 7.510e+02, 2.848e+03,\n",
       "       5.645e+03, 5.580e+02, 1.363e+03, 1.100e+02, 2.650e+02, 1.275e+03,\n",
       "       3.544e+03, 6.520e+02, 3.344e+03, 2.640e+02, 1.079e+03, 1.000e+00,\n",
       "       1.940e+02, 2.330e+02, 2.250e+02, 2.772e+03, 7.543e+03, 4.000e+00,\n",
       "       5.050e+03, 1.275e+03, 2.185e+03, 1.000e+00, 1.940e+02, 4.040e+02,\n",
       "       3.300e+01, 1.314e+03, 4.180e+02, 2.600e+01, 1.000e+00, 1.940e+02,\n",
       "       1.200e+02, 4.001e+03, 2.072e+03], dtype=float32)"
      ]
     },
     "execution_count": 599,
     "metadata": {},
     "output_type": "execute_result"
    }
   ],
   "source": [
    "# See example of index vectorize\n",
    "review_vectorizer.index_vectorize(imdb_df_train['tokens'][0])"
   ]
  },
  {
   "cell_type": "code",
   "execution_count": null,
   "id": "47894bc7",
   "metadata": {},
   "outputs": [
    {
     "data": {
      "text/plain": [
       "(array([0., 9., 0., ..., 0., 0., 0.], dtype=float32),\n",
       " [('<unk>', 1, np.float32(9.0)),\n",
       "  ('one', 4, np.float32(1.0)),\n",
       "  ('time', 7, np.float32(1.0)),\n",
       "  ('see', 12, np.float32(1.0)),\n",
       "  ('much', 14, np.float32(1.0)),\n",
       "  ('think', 26, np.float32(1.0)),\n",
       "  ('many', 33, np.float32(1.0)),\n",
       "  ('life', 34, np.float32(1.0)),\n",
       "  ('years', 59, np.float32(1.0)),\n",
       "  ('right', 99, np.float32(1.0)),\n",
       "  ('comedy', 102, np.float32(1.0)),\n",
       "  ('saw', 110, np.float32(1.0)),\n",
       "  ('whole', 115, np.float32(1.0)),\n",
       "  ('far', 120, np.float32(1.0)),\n",
       "  ('believe', 148, np.float32(1.0)),\n",
       "  ('high', 194, np.float32(5.0)),\n",
       "  ('line', 225, np.float32(1.0)),\n",
       "  ('classic', 233, np.float32(1.0)),\n",
       "  ('school', 264, np.float32(2.0)),\n",
       "  ('episode', 265, np.float32(1.0)),\n",
       "  ('lead', 354, np.float32(1.0)),\n",
       "  ('expect', 404, np.float32(1.0)),\n",
       "  ('age', 418, np.float32(1.0)),\n",
       "  ('reality', 485, np.float32(1.0)),\n",
       "  ('knew', 558, np.float32(1.0)),\n",
       "  ('tried', 652, np.float32(1.0)),\n",
       "  ('situation', 751, np.float32(1.0)),\n",
       "  ('cartoon', 915, np.float32(1.0)),\n",
       "  ('pathetic', 1066, np.float32(1.0)),\n",
       "  ('immediately', 1079, np.float32(1.0)),\n",
       "  ('student', 1275, np.float32(2.0)),\n",
       "  ('adults', 1314, np.float32(1.0)),\n",
       "  ('students', 1363, np.float32(2.0)),\n",
       "  ('satire', 1839, np.float32(1.0)),\n",
       "  ('survive', 1844, np.float32(1.0)),\n",
       "  ('ran', 1994, np.float32(1.0)),\n",
       "  ('pity', 2072, np.float32(1.0)),\n",
       "  ('welcome', 2185, np.float32(1.0)),\n",
       "  ('closer', 2254, np.float32(1.0)),\n",
       "  ('inspector', 2772, np.float32(1.0)),\n",
       "  ('remind', 2848, np.float32(1.0)),\n",
       "  ('burn', 3344, np.float32(1.0)),\n",
       "  ('repeatedly', 3544, np.float32(1.0)),\n",
       "  ('fetched', 4001, np.float32(1.0)),\n",
       "  ('teaching', 4829, np.float32(1.0)),\n",
       "  ('teachers', 5050, np.float32(4.0)),\n",
       "  ('programs', 5643, np.float32(1.0)),\n",
       "  ('insightful', 5644, np.float32(1.0)),\n",
       "  ('schools', 5645, np.float32(1.0)),\n",
       "  ('profession', 5707, np.float32(1.0)),\n",
       "  ('sack', 7543, np.float32(1.0))])"
      ]
     },
     "execution_count": 603,
     "metadata": {},
     "output_type": "execute_result"
    }
   ],
   "source": [
    "# See example of one hot vectorize\n",
    "onehot = review_vectorizer.onehot_vectorize(imdb_df_train['tokens'][0])\n",
    "onehot, list(filter(lambda x: x[-1] > 0, [(review_vocab.lookup_index(index), index, freq) for index, freq in enumerate(onehot)]))"
   ]
  },
  {
   "cell_type": "markdown",
   "id": "fea5a1f9",
   "metadata": {},
   "source": [
    "## Dataset"
   ]
  },
  {
   "cell_type": "code",
   "execution_count": 617,
   "id": "6191291b",
   "metadata": {},
   "outputs": [],
   "source": [
    "class IndexReviewDataset(Dataset):\n",
    "  def __init__(self, imdb_df, vectorizer: Vectorizer, max_length):\n",
    "    self.review_df = imdb_df\n",
    "    self.vectorizer = vectorizer\n",
    "    self.max_length = max_length\n",
    "    self.pad_index = vectorizer.vocab.pad_index\n",
    "\n",
    "  def __len__(self):\n",
    "    return len(self.review_df)\n",
    "\n",
    "  def __getitem__(self, index):\n",
    "    row = self.review_df.iloc[index]\n",
    "    review_indices = self.vectorizer.index_vectorize(row.tokens[:self.max_length])\n",
    "    padded = np.full(self.max_length, fill_value=self.pad_index)\n",
    "    padded[:len(review_indices)] = review_indices\n",
    "    sentiment_vector = row.sentiment\n",
    "    return {'x': padded,\n",
    "            'y': sentiment_vector}\n",
    "\n",
    "  def get_vectorizer(self):\n",
    "    return self.vectorizer \n",
    "  \n",
    "  def get_num_batches(self, batch_size):\n",
    "    return len(self) // batch_size "
   ]
  },
  {
   "cell_type": "code",
   "execution_count": 623,
   "id": "a94f696c",
   "metadata": {},
   "outputs": [],
   "source": [
    "index_dataset_train = IndexReviewDataset(imdb_df=imdb_df_train, vectorizer=review_vectorizer, max_length=300)"
   ]
  },
  {
   "cell_type": "code",
   "execution_count": 606,
   "id": "43eb9ba5",
   "metadata": {},
   "outputs": [],
   "source": [
    "class OneHotReviewDataset(Dataset):\n",
    "  def __init__(self, imdb_df, vectorizer: Vectorizer):\n",
    "    self.review_df = imdb_df\n",
    "    self.vectorizer = vectorizer\n",
    "\n",
    "  def __len__(self):\n",
    "    return len(self.review_df)\n",
    "\n",
    "  def __getitem__(self, index):\n",
    "    row = self.review_df.iloc[index]\n",
    "    review_vector = self.vectorizer.onehot_vectorize(row.tokens)\n",
    "    sentiment_vector = row.sentiment\n",
    "    return {'x': review_vector,\n",
    "            'y': sentiment_vector}\n",
    "\n",
    "  def get_vectorizer(self):\n",
    "    return self.vectorizer \n",
    "  \n",
    "  def get_num_batches(self, batch_size):\n",
    "    return len(self) // batch_size "
   ]
  },
  {
   "cell_type": "code",
   "execution_count": 624,
   "id": "b3356256",
   "metadata": {},
   "outputs": [],
   "source": [
    "onehot_dataset_train = OneHotReviewDataset(imdb_df=imdb_df_train, vectorizer=review_vectorizer)"
   ]
  },
  {
   "cell_type": "markdown",
   "id": "3e783e7b",
   "metadata": {},
   "source": [
    "## Dataloader"
   ]
  },
  {
   "cell_type": "code",
   "execution_count": 610,
   "id": "453b2a66",
   "metadata": {},
   "outputs": [],
   "source": [
    "def generate_batches(dataset, batch_size, \n",
    "                     shuffle=True,\n",
    "                     drop_last=True, \n",
    "                     device=\"cpu\"):\n",
    "  \n",
    "  dataloader = DataLoader(dataset=dataset, \n",
    "                          batch_size=batch_size,\n",
    "                          shuffle=shuffle, \n",
    "                          drop_last=drop_last)\n",
    "\n",
    "  for data_dict in dataloader:\n",
    "    out_data_dict = {}\n",
    "    for name, tensor in data_dict.items():\n",
    "      out_data_dict[name] = data_dict[name].to(device)\n",
    "    yield out_data_dict"
   ]
  },
  {
   "cell_type": "code",
   "execution_count": 625,
   "id": "12d81073",
   "metadata": {},
   "outputs": [
    {
     "name": "stdout",
     "output_type": "stream",
     "text": [
      "x shape: torch.Size([32, 300]), y shape: torch.Size([32])\n",
      "tensor([[   1, 1594,    1,  ...,    0,    0,    0],\n",
      "        [ 483,    2,   66,  ...,    0,    0,    0],\n",
      "        [1192,    4, 1659,  ..., 2796, 5581,  439],\n",
      "        ...,\n",
      "        [1270, 7593,   40,  ...,    0,    0,    0],\n",
      "        [  93,    4, 2107,  ...,    0,    0,    0],\n",
      "        [ 138,    2,   32,  ...,    0,    0,    0]])\n",
      "tensor([0, 0, 0, 0, 0, 0, 0, 0, 1, 1, 0, 0, 1, 1, 1, 1, 0, 1, 0, 1, 1, 1, 0, 1,\n",
      "        0, 1, 0, 1, 1, 1, 0, 0])\n"
     ]
    }
   ],
   "source": [
    "# Using generate_batches to get 1 sample at a time\n",
    "for out_dict in generate_batches(dataset=index_dataset_train, batch_size=32):\n",
    "  x_data = out_dict['x']\n",
    "  y_target = out_dict['y']\n",
    "  print(f\"x shape: {x_data.shape}, y shape: {y_target.shape}\")\n",
    "  print(x_data)\n",
    "  print(y_target)\n",
    "  break"
   ]
  },
  {
   "cell_type": "code",
   "execution_count": 626,
   "id": "924f9d52",
   "metadata": {},
   "outputs": [
    {
     "name": "stdout",
     "output_type": "stream",
     "text": [
      "x shape: torch.Size([32, 8000]), y shape: torch.Size([32])\n",
      "tensor([[ 0., 10.,  1.,  ...,  0.,  0.,  0.],\n",
      "        [ 0., 12.,  0.,  ...,  0.,  0.,  0.],\n",
      "        [ 0., 21.,  0.,  ...,  0.,  0.,  0.],\n",
      "        ...,\n",
      "        [ 0., 13.,  3.,  ...,  0.,  0.,  0.],\n",
      "        [ 0.,  4.,  0.,  ...,  0.,  0.,  0.],\n",
      "        [ 0., 10.,  0.,  ...,  0.,  0.,  0.]])\n",
      "tensor([1, 1, 0, 1, 1, 0, 0, 1, 1, 0, 0, 1, 0, 1, 1, 1, 0, 1, 1, 0, 0, 0, 0, 1,\n",
      "        0, 0, 1, 1, 0, 1, 1, 1])\n"
     ]
    }
   ],
   "source": [
    "# Using generate_batches to get 1 sample at a time\n",
    "for out_dict in generate_batches(dataset=onehot_dataset_train, batch_size=32):\n",
    "  x_data = out_dict['x']\n",
    "  y_target = out_dict['y']\n",
    "  print(f\"x shape: {x_data.shape}, y shape: {y_target.shape}\")\n",
    "  print(x_data)\n",
    "  print(y_target)\n",
    "  break"
   ]
  },
  {
   "cell_type": "markdown",
   "id": "385423e3",
   "metadata": {},
   "source": [
    "## Model"
   ]
  },
  {
   "cell_type": "code",
   "execution_count": null,
   "id": "74048ce2",
   "metadata": {},
   "outputs": [],
   "source": []
  }
 ],
 "metadata": {
  "kernelspec": {
   "display_name": "DataScienceClass",
   "language": "python",
   "name": "python3"
  },
  "language_info": {
   "codemirror_mode": {
    "name": "ipython",
    "version": 3
   },
   "file_extension": ".py",
   "mimetype": "text/x-python",
   "name": "python",
   "nbconvert_exporter": "python",
   "pygments_lexer": "ipython3",
   "version": "3.12.7"
  }
 },
 "nbformat": 4,
 "nbformat_minor": 5
}
